{
 "cells": [
  {
   "cell_type": "markdown",
   "metadata": {},
   "source": [
    "# Initial Cleaning and EDA on the dataset"
   ]
  },
  {
   "cell_type": "markdown",
   "metadata": {},
   "source": [
    "I will be using a mixture of pandas and [SQLite](https://www.sqlite.org/about.html) to examine the df "
   ]
  },
  {
   "cell_type": "markdown",
   "metadata": {},
   "source": [
    "Limitations of SQLite: I can't do much of the data cleansing in SQLite. I can't do DDL as well (dropping columns and changing data types is done in pandas). I'll also include what the SQL statement would be to achieve the same results anytime I use pandas. You won't be able to run the SQL cell codes. The two links below elaborate on the limitations of SQLite.\n",
    "\n",
    "https://www.simplilearn.com/tutorials/sql-tutorial/what-is-sqlite#:~:text=Limitations%20of%20SQLite&text=SQLite%20only%20allows%20normal%20file,support%20FOR%20EACH%20STATEMENT%20triggers.\n",
    "\n",
    "https://www.sqlite.org/limits.html\n"
   ]
  },
  {
   "cell_type": "markdown",
   "metadata": {},
   "source": [
    "### Importing Neccessary Libraries"
   ]
  },
  {
   "cell_type": "code",
   "execution_count": 1,
   "metadata": {},
   "outputs": [],
   "source": [
    "import pandas as pd\n",
    "import sqlite3"
   ]
  },
  {
   "cell_type": "markdown",
   "metadata": {},
   "source": [
    "### Reading In the Dataset "
   ]
  },
  {
   "cell_type": "code",
   "execution_count": 2,
   "metadata": {},
   "outputs": [
    {
     "data": {
      "text/html": [
       "<div>\n",
       "<style scoped>\n",
       "    .dataframe tbody tr th:only-of-type {\n",
       "        vertical-align: middle;\n",
       "    }\n",
       "\n",
       "    .dataframe tbody tr th {\n",
       "        vertical-align: top;\n",
       "    }\n",
       "\n",
       "    .dataframe thead th {\n",
       "        text-align: right;\n",
       "    }\n",
       "</style>\n",
       "<table border=\"1\" class=\"dataframe\">\n",
       "  <thead>\n",
       "    <tr style=\"text-align: right;\">\n",
       "      <th></th>\n",
       "      <th>INMATEID</th>\n",
       "      <th>ADMITTED_DT</th>\n",
       "      <th>DISCHARGED_DT</th>\n",
       "      <th>CUSTODY_LEVEL</th>\n",
       "      <th>BRADH</th>\n",
       "      <th>RACE</th>\n",
       "      <th>GENDER</th>\n",
       "      <th>AGE</th>\n",
       "      <th>INMATE_STATUS_CODE</th>\n",
       "      <th>SEALED</th>\n",
       "      <th>SRG_FLG</th>\n",
       "      <th>TOP_CHARGE</th>\n",
       "      <th>INFRACTION</th>\n",
       "    </tr>\n",
       "  </thead>\n",
       "  <tbody>\n",
       "    <tr>\n",
       "      <th>0</th>\n",
       "      <td>20197307</td>\n",
       "      <td>03/23/2023 02:49:00 PM</td>\n",
       "      <td>NaN</td>\n",
       "      <td>MAX</td>\n",
       "      <td>Y</td>\n",
       "      <td>B</td>\n",
       "      <td>M</td>\n",
       "      <td>21</td>\n",
       "      <td>DE</td>\n",
       "      <td>N</td>\n",
       "      <td>Y</td>\n",
       "      <td>110-125.25</td>\n",
       "      <td>Y</td>\n",
       "    </tr>\n",
       "    <tr>\n",
       "      <th>1</th>\n",
       "      <td>20223604</td>\n",
       "      <td>03/16/2023 09:14:00 PM</td>\n",
       "      <td>NaN</td>\n",
       "      <td>MED</td>\n",
       "      <td>Y</td>\n",
       "      <td>O</td>\n",
       "      <td>M</td>\n",
       "      <td>70</td>\n",
       "      <td>DE</td>\n",
       "      <td>N</td>\n",
       "      <td>N</td>\n",
       "      <td>130.50</td>\n",
       "      <td>N</td>\n",
       "    </tr>\n",
       "    <tr>\n",
       "      <th>2</th>\n",
       "      <td>20031187</td>\n",
       "      <td>06/11/2023 12:38:00 AM</td>\n",
       "      <td>NaN</td>\n",
       "      <td>MED</td>\n",
       "      <td>Y</td>\n",
       "      <td>O</td>\n",
       "      <td>M</td>\n",
       "      <td>31</td>\n",
       "      <td>DE</td>\n",
       "      <td>N</td>\n",
       "      <td>Y</td>\n",
       "      <td>220.16</td>\n",
       "      <td>N</td>\n",
       "    </tr>\n",
       "    <tr>\n",
       "      <th>3</th>\n",
       "      <td>20223353</td>\n",
       "      <td>03/02/2023 01:57:34 AM</td>\n",
       "      <td>NaN</td>\n",
       "      <td>NaN</td>\n",
       "      <td>Y</td>\n",
       "      <td>O</td>\n",
       "      <td>M</td>\n",
       "      <td>23</td>\n",
       "      <td>DE</td>\n",
       "      <td>N</td>\n",
       "      <td>N</td>\n",
       "      <td>110-125.25</td>\n",
       "      <td>Y</td>\n",
       "    </tr>\n",
       "    <tr>\n",
       "      <th>4</th>\n",
       "      <td>20070053</td>\n",
       "      <td>09/05/2021 12:50:57 AM</td>\n",
       "      <td>NaN</td>\n",
       "      <td>MED</td>\n",
       "      <td>N</td>\n",
       "      <td>O</td>\n",
       "      <td>M</td>\n",
       "      <td>32</td>\n",
       "      <td>DE</td>\n",
       "      <td>N</td>\n",
       "      <td>N</td>\n",
       "      <td>110-125.25</td>\n",
       "      <td>N</td>\n",
       "    </tr>\n",
       "    <tr>\n",
       "      <th>...</th>\n",
       "      <td>...</td>\n",
       "      <td>...</td>\n",
       "      <td>...</td>\n",
       "      <td>...</td>\n",
       "      <td>...</td>\n",
       "      <td>...</td>\n",
       "      <td>...</td>\n",
       "      <td>...</td>\n",
       "      <td>...</td>\n",
       "      <td>...</td>\n",
       "      <td>...</td>\n",
       "      <td>...</td>\n",
       "      <td>...</td>\n",
       "    </tr>\n",
       "    <tr>\n",
       "      <th>6141</th>\n",
       "      <td>20140924</td>\n",
       "      <td>07/28/2022 02:08:38 AM</td>\n",
       "      <td>NaN</td>\n",
       "      <td>MED</td>\n",
       "      <td>Y</td>\n",
       "      <td>W</td>\n",
       "      <td>M</td>\n",
       "      <td>44</td>\n",
       "      <td>CS</td>\n",
       "      <td>N</td>\n",
       "      <td>N</td>\n",
       "      <td>270.25</td>\n",
       "      <td>N</td>\n",
       "    </tr>\n",
       "    <tr>\n",
       "      <th>6142</th>\n",
       "      <td>20008122</td>\n",
       "      <td>07/13/2023 08:47:04 PM</td>\n",
       "      <td>NaN</td>\n",
       "      <td>MIN</td>\n",
       "      <td>N</td>\n",
       "      <td>O</td>\n",
       "      <td>M</td>\n",
       "      <td>32</td>\n",
       "      <td>DE</td>\n",
       "      <td>N</td>\n",
       "      <td>N</td>\n",
       "      <td>120.00</td>\n",
       "      <td>N</td>\n",
       "    </tr>\n",
       "    <tr>\n",
       "      <th>6143</th>\n",
       "      <td>20206710</td>\n",
       "      <td>07/13/2023 07:21:01 PM</td>\n",
       "      <td>NaN</td>\n",
       "      <td>MAX</td>\n",
       "      <td>N</td>\n",
       "      <td>O</td>\n",
       "      <td>M</td>\n",
       "      <td>23</td>\n",
       "      <td>DE</td>\n",
       "      <td>N</td>\n",
       "      <td>N</td>\n",
       "      <td>120.05</td>\n",
       "      <td>N</td>\n",
       "    </tr>\n",
       "    <tr>\n",
       "      <th>6144</th>\n",
       "      <td>20220543</td>\n",
       "      <td>09/07/2022 04:43:55 PM</td>\n",
       "      <td>NaN</td>\n",
       "      <td>MAX</td>\n",
       "      <td>N</td>\n",
       "      <td>O</td>\n",
       "      <td>M</td>\n",
       "      <td>20</td>\n",
       "      <td>DE</td>\n",
       "      <td>N</td>\n",
       "      <td>N</td>\n",
       "      <td>NaN</td>\n",
       "      <td>Y</td>\n",
       "    </tr>\n",
       "    <tr>\n",
       "      <th>6145</th>\n",
       "      <td>27488</td>\n",
       "      <td>03/17/2023 11:21:46 PM</td>\n",
       "      <td>NaN</td>\n",
       "      <td>MIN</td>\n",
       "      <td>Y</td>\n",
       "      <td>O</td>\n",
       "      <td>M</td>\n",
       "      <td>67</td>\n",
       "      <td>DE</td>\n",
       "      <td>N</td>\n",
       "      <td>N</td>\n",
       "      <td>140.25</td>\n",
       "      <td>N</td>\n",
       "    </tr>\n",
       "  </tbody>\n",
       "</table>\n",
       "<p>6146 rows × 13 columns</p>\n",
       "</div>"
      ],
      "text/plain": [
       "      INMATEID             ADMITTED_DT  DISCHARGED_DT CUSTODY_LEVEL BRADH  \\\n",
       "0     20197307  03/23/2023 02:49:00 PM            NaN           MAX     Y   \n",
       "1     20223604  03/16/2023 09:14:00 PM            NaN           MED     Y   \n",
       "2     20031187  06/11/2023 12:38:00 AM            NaN           MED     Y   \n",
       "3     20223353  03/02/2023 01:57:34 AM            NaN           NaN     Y   \n",
       "4     20070053  09/05/2021 12:50:57 AM            NaN           MED     N   \n",
       "...        ...                     ...            ...           ...   ...   \n",
       "6141  20140924  07/28/2022 02:08:38 AM            NaN           MED     Y   \n",
       "6142  20008122  07/13/2023 08:47:04 PM            NaN           MIN     N   \n",
       "6143  20206710  07/13/2023 07:21:01 PM            NaN           MAX     N   \n",
       "6144  20220543  09/07/2022 04:43:55 PM            NaN           MAX     N   \n",
       "6145     27488  03/17/2023 11:21:46 PM            NaN           MIN     Y   \n",
       "\n",
       "     RACE GENDER  AGE INMATE_STATUS_CODE SEALED SRG_FLG  TOP_CHARGE INFRACTION  \n",
       "0       B      M   21                 DE      N       Y  110-125.25          Y  \n",
       "1       O      M   70                 DE      N       N      130.50          N  \n",
       "2       O      M   31                 DE      N       Y      220.16          N  \n",
       "3       O      M   23                 DE      N       N  110-125.25          Y  \n",
       "4       O      M   32                 DE      N       N  110-125.25          N  \n",
       "...   ...    ...  ...                ...    ...     ...         ...        ...  \n",
       "6141    W      M   44                 CS      N       N      270.25          N  \n",
       "6142    O      M   32                 DE      N       N      120.00          N  \n",
       "6143    O      M   23                 DE      N       N      120.05          N  \n",
       "6144    O      M   20                 DE      N       N         NaN          Y  \n",
       "6145    O      M   67                 DE      N       N      140.25          N  \n",
       "\n",
       "[6146 rows x 13 columns]"
      ]
     },
     "execution_count": 2,
     "metadata": {},
     "output_type": "execute_result"
    }
   ],
   "source": [
    "df = pd.read_csv('Daily_Inmates_In_Custody.csv')\n",
    "df"
   ]
  },
  {
   "cell_type": "markdown",
   "metadata": {},
   "source": [
    "### Establish a connection to the SQLite database file 'crime_database.db'\n",
    "\n",
    "You can create your own database file by running the code below and it'll run properly. The naming of your *.db* file can be whatever you want"
   ]
  },
  {
   "cell_type": "code",
   "execution_count": 3,
   "metadata": {},
   "outputs": [],
   "source": [
    "conn = sqlite3.connect('crime_database.db')"
   ]
  },
  {
   "cell_type": "markdown",
   "metadata": {},
   "source": [
    "### Convert the DF to a SQL Table"
   ]
  },
  {
   "cell_type": "code",
   "execution_count": 4,
   "metadata": {},
   "outputs": [
    {
     "data": {
      "text/plain": [
       "6146"
      ]
     },
     "execution_count": 4,
     "metadata": {},
     "output_type": "execute_result"
    }
   ],
   "source": [
    "df.to_sql('mytable', conn, if_exists='replace', index=False)\n"
   ]
  },
  {
   "cell_type": "markdown",
   "metadata": {},
   "source": [
    "The output of the cell above shows the number of rows in the SQL Table. The actual SQL query is below:"
   ]
  },
  {
   "cell_type": "code",
   "execution_count": null,
   "metadata": {
    "vscode": {
     "languageId": "sql"
    }
   },
   "outputs": [],
   "source": [
    "SELECT COUNT(*) FROM mytable"
   ]
  },
  {
   "cell_type": "markdown",
   "metadata": {},
   "source": [
    "### Examining the Dataframes Info"
   ]
  },
  {
   "cell_type": "code",
   "execution_count": 5,
   "metadata": {},
   "outputs": [
    {
     "name": "stdout",
     "output_type": "stream",
     "text": [
      "<class 'pandas.core.frame.DataFrame'>\n",
      "RangeIndex: 6146 entries, 0 to 6145\n",
      "Data columns (total 13 columns):\n",
      " #   Column              Non-Null Count  Dtype  \n",
      "---  ------              --------------  -----  \n",
      " 0   INMATEID            6146 non-null   int64  \n",
      " 1   ADMITTED_DT         6146 non-null   object \n",
      " 2   DISCHARGED_DT       0 non-null      float64\n",
      " 3   CUSTODY_LEVEL       6113 non-null   object \n",
      " 4   BRADH               6146 non-null   object \n",
      " 5   RACE                6128 non-null   object \n",
      " 6   GENDER              6128 non-null   object \n",
      " 7   AGE                 6146 non-null   int64  \n",
      " 8   INMATE_STATUS_CODE  6146 non-null   object \n",
      " 9   SEALED              6146 non-null   object \n",
      " 10  SRG_FLG             6146 non-null   object \n",
      " 11  TOP_CHARGE          5975 non-null   object \n",
      " 12  INFRACTION          6146 non-null   object \n",
      "dtypes: float64(1), int64(2), object(10)\n",
      "memory usage: 624.3+ KB\n"
     ]
    }
   ],
   "source": [
    "df.info()"
   ]
  },
  {
   "cell_type": "markdown",
   "metadata": {},
   "source": [
    "Takeaways:\n",
    "\n",
    "- The discharged date column has 0 values and should be removed\n",
    "\n",
    "- The admitted date column needs its data type to be converted to a datetime and then broken out"
   ]
  },
  {
   "cell_type": "markdown",
   "metadata": {},
   "source": [
    "The SQL alternative for the above code depends on the specific SQL Database you are using. For example, in MySql, this format would query your table data types:"
   ]
  },
  {
   "cell_type": "code",
   "execution_count": null,
   "metadata": {
    "vscode": {
     "languageId": "sql"
    }
   },
   "outputs": [],
   "source": [
    "SELECT DATA_TYPE from INFORMATION_SCHEMA.COLUMNS where\n",
    "    table_schema = 'yourDatabaseName' and table_name = 'yourTableName';"
   ]
  },
  {
   "cell_type": "markdown",
   "metadata": {},
   "source": [
    "\n",
    "To get the non-null counts of each column in SQL, use this query:"
   ]
  },
  {
   "cell_type": "code",
   "execution_count": null,
   "metadata": {
    "vscode": {
     "languageId": "sql"
    }
   },
   "outputs": [],
   "source": [
    "SELECT COUNT('column name') FROM mytable\n",
    "\n",
    "    WHERE 'column name' IS NOT NULL;"
   ]
  },
  {
   "cell_type": "markdown",
   "metadata": {},
   "source": [
    "Drop the **Discharged Date** Column "
   ]
  },
  {
   "cell_type": "code",
   "execution_count": 6,
   "metadata": {},
   "outputs": [
    {
     "data": {
      "text/html": [
       "<div>\n",
       "<style scoped>\n",
       "    .dataframe tbody tr th:only-of-type {\n",
       "        vertical-align: middle;\n",
       "    }\n",
       "\n",
       "    .dataframe tbody tr th {\n",
       "        vertical-align: top;\n",
       "    }\n",
       "\n",
       "    .dataframe thead th {\n",
       "        text-align: right;\n",
       "    }\n",
       "</style>\n",
       "<table border=\"1\" class=\"dataframe\">\n",
       "  <thead>\n",
       "    <tr style=\"text-align: right;\">\n",
       "      <th></th>\n",
       "      <th>INMATEID</th>\n",
       "      <th>ADMITTED_DT</th>\n",
       "      <th>CUSTODY_LEVEL</th>\n",
       "      <th>BRADH</th>\n",
       "      <th>RACE</th>\n",
       "      <th>GENDER</th>\n",
       "      <th>AGE</th>\n",
       "      <th>INMATE_STATUS_CODE</th>\n",
       "      <th>SEALED</th>\n",
       "      <th>SRG_FLG</th>\n",
       "      <th>TOP_CHARGE</th>\n",
       "      <th>INFRACTION</th>\n",
       "    </tr>\n",
       "  </thead>\n",
       "  <tbody>\n",
       "    <tr>\n",
       "      <th>0</th>\n",
       "      <td>20197307</td>\n",
       "      <td>03/23/2023 02:49:00 PM</td>\n",
       "      <td>MAX</td>\n",
       "      <td>Y</td>\n",
       "      <td>B</td>\n",
       "      <td>M</td>\n",
       "      <td>21</td>\n",
       "      <td>DE</td>\n",
       "      <td>N</td>\n",
       "      <td>Y</td>\n",
       "      <td>110-125.25</td>\n",
       "      <td>Y</td>\n",
       "    </tr>\n",
       "    <tr>\n",
       "      <th>1</th>\n",
       "      <td>20223604</td>\n",
       "      <td>03/16/2023 09:14:00 PM</td>\n",
       "      <td>MED</td>\n",
       "      <td>Y</td>\n",
       "      <td>O</td>\n",
       "      <td>M</td>\n",
       "      <td>70</td>\n",
       "      <td>DE</td>\n",
       "      <td>N</td>\n",
       "      <td>N</td>\n",
       "      <td>130.50</td>\n",
       "      <td>N</td>\n",
       "    </tr>\n",
       "    <tr>\n",
       "      <th>2</th>\n",
       "      <td>20031187</td>\n",
       "      <td>06/11/2023 12:38:00 AM</td>\n",
       "      <td>MED</td>\n",
       "      <td>Y</td>\n",
       "      <td>O</td>\n",
       "      <td>M</td>\n",
       "      <td>31</td>\n",
       "      <td>DE</td>\n",
       "      <td>N</td>\n",
       "      <td>Y</td>\n",
       "      <td>220.16</td>\n",
       "      <td>N</td>\n",
       "    </tr>\n",
       "    <tr>\n",
       "      <th>3</th>\n",
       "      <td>20223353</td>\n",
       "      <td>03/02/2023 01:57:34 AM</td>\n",
       "      <td>NaN</td>\n",
       "      <td>Y</td>\n",
       "      <td>O</td>\n",
       "      <td>M</td>\n",
       "      <td>23</td>\n",
       "      <td>DE</td>\n",
       "      <td>N</td>\n",
       "      <td>N</td>\n",
       "      <td>110-125.25</td>\n",
       "      <td>Y</td>\n",
       "    </tr>\n",
       "    <tr>\n",
       "      <th>4</th>\n",
       "      <td>20070053</td>\n",
       "      <td>09/05/2021 12:50:57 AM</td>\n",
       "      <td>MED</td>\n",
       "      <td>N</td>\n",
       "      <td>O</td>\n",
       "      <td>M</td>\n",
       "      <td>32</td>\n",
       "      <td>DE</td>\n",
       "      <td>N</td>\n",
       "      <td>N</td>\n",
       "      <td>110-125.25</td>\n",
       "      <td>N</td>\n",
       "    </tr>\n",
       "  </tbody>\n",
       "</table>\n",
       "</div>"
      ],
      "text/plain": [
       "   INMATEID             ADMITTED_DT CUSTODY_LEVEL BRADH RACE GENDER  AGE  \\\n",
       "0  20197307  03/23/2023 02:49:00 PM           MAX     Y    B      M   21   \n",
       "1  20223604  03/16/2023 09:14:00 PM           MED     Y    O      M   70   \n",
       "2  20031187  06/11/2023 12:38:00 AM           MED     Y    O      M   31   \n",
       "3  20223353  03/02/2023 01:57:34 AM           NaN     Y    O      M   23   \n",
       "4  20070053  09/05/2021 12:50:57 AM           MED     N    O      M   32   \n",
       "\n",
       "  INMATE_STATUS_CODE SEALED SRG_FLG  TOP_CHARGE INFRACTION  \n",
       "0                 DE      N       Y  110-125.25          Y  \n",
       "1                 DE      N       N      130.50          N  \n",
       "2                 DE      N       Y      220.16          N  \n",
       "3                 DE      N       N  110-125.25          Y  \n",
       "4                 DE      N       N  110-125.25          N  "
      ]
     },
     "execution_count": 6,
     "metadata": {},
     "output_type": "execute_result"
    }
   ],
   "source": [
    "df = df.drop(columns='DISCHARGED_DT', axis=1)\n",
    "df.head()"
   ]
  },
  {
   "cell_type": "markdown",
   "metadata": {},
   "source": [
    "Here's how the above code would be done in SQL:"
   ]
  },
  {
   "cell_type": "code",
   "execution_count": null,
   "metadata": {
    "vscode": {
     "languageId": "sql"
    }
   },
   "outputs": [],
   "source": [
    "ALTER TABLE mytable\n",
    "    DROP COLUMN DISCHARGED_DT;"
   ]
  },
  {
   "cell_type": "markdown",
   "metadata": {},
   "source": [
    "Convert the **Admitted Date** to Datetime "
   ]
  },
  {
   "cell_type": "code",
   "execution_count": 7,
   "metadata": {},
   "outputs": [
    {
     "data": {
      "text/plain": [
       "INMATEID                       int64\n",
       "ADMITTED_DT           datetime64[ns]\n",
       "CUSTODY_LEVEL                 object\n",
       "BRADH                         object\n",
       "RACE                          object\n",
       "GENDER                        object\n",
       "AGE                            int64\n",
       "INMATE_STATUS_CODE            object\n",
       "SEALED                        object\n",
       "SRG_FLG                       object\n",
       "TOP_CHARGE                    object\n",
       "INFRACTION                    object\n",
       "dtype: object"
      ]
     },
     "execution_count": 7,
     "metadata": {},
     "output_type": "execute_result"
    }
   ],
   "source": [
    "df['ADMITTED_DT'] = pd.to_datetime(df['ADMITTED_DT'])\n",
    "\n",
    "df.dtypes\n"
   ]
  },
  {
   "cell_type": "markdown",
   "metadata": {},
   "source": [
    "Converting the **Admitted Date** Column to Datetime in **SQL**"
   ]
  },
  {
   "cell_type": "code",
   "execution_count": null,
   "metadata": {
    "vscode": {
     "languageId": "sql"
    }
   },
   "outputs": [],
   "source": [
    "UPDATE mytable\n",
    "\n",
    "    SET ADMITTED_DT = CAST(ADMITTED_DT AS DATETIME);"
   ]
  },
  {
   "cell_type": "markdown",
   "metadata": {},
   "source": [
    "### Splitting our *ADMITTED_DT* into a *Date* and *Time* Column"
   ]
  },
  {
   "cell_type": "code",
   "execution_count": 8,
   "metadata": {},
   "outputs": [
    {
     "data": {
      "text/html": [
       "<div>\n",
       "<style scoped>\n",
       "    .dataframe tbody tr th:only-of-type {\n",
       "        vertical-align: middle;\n",
       "    }\n",
       "\n",
       "    .dataframe tbody tr th {\n",
       "        vertical-align: top;\n",
       "    }\n",
       "\n",
       "    .dataframe thead th {\n",
       "        text-align: right;\n",
       "    }\n",
       "</style>\n",
       "<table border=\"1\" class=\"dataframe\">\n",
       "  <thead>\n",
       "    <tr style=\"text-align: right;\">\n",
       "      <th></th>\n",
       "      <th>INMATEID</th>\n",
       "      <th>CUSTODY_LEVEL</th>\n",
       "      <th>BRADH</th>\n",
       "      <th>RACE</th>\n",
       "      <th>GENDER</th>\n",
       "      <th>AGE</th>\n",
       "      <th>INMATE_STATUS_CODE</th>\n",
       "      <th>SEALED</th>\n",
       "      <th>SRG_FLG</th>\n",
       "      <th>TOP_CHARGE</th>\n",
       "      <th>INFRACTION</th>\n",
       "      <th>Date</th>\n",
       "      <th>Time</th>\n",
       "    </tr>\n",
       "  </thead>\n",
       "  <tbody>\n",
       "    <tr>\n",
       "      <th>0</th>\n",
       "      <td>20197307</td>\n",
       "      <td>MAX</td>\n",
       "      <td>Y</td>\n",
       "      <td>B</td>\n",
       "      <td>M</td>\n",
       "      <td>21</td>\n",
       "      <td>DE</td>\n",
       "      <td>N</td>\n",
       "      <td>Y</td>\n",
       "      <td>110-125.25</td>\n",
       "      <td>Y</td>\n",
       "      <td>2023-03-23</td>\n",
       "      <td>14:49:00</td>\n",
       "    </tr>\n",
       "    <tr>\n",
       "      <th>1</th>\n",
       "      <td>20223604</td>\n",
       "      <td>MED</td>\n",
       "      <td>Y</td>\n",
       "      <td>O</td>\n",
       "      <td>M</td>\n",
       "      <td>70</td>\n",
       "      <td>DE</td>\n",
       "      <td>N</td>\n",
       "      <td>N</td>\n",
       "      <td>130.50</td>\n",
       "      <td>N</td>\n",
       "      <td>2023-03-16</td>\n",
       "      <td>21:14:00</td>\n",
       "    </tr>\n",
       "    <tr>\n",
       "      <th>2</th>\n",
       "      <td>20031187</td>\n",
       "      <td>MED</td>\n",
       "      <td>Y</td>\n",
       "      <td>O</td>\n",
       "      <td>M</td>\n",
       "      <td>31</td>\n",
       "      <td>DE</td>\n",
       "      <td>N</td>\n",
       "      <td>Y</td>\n",
       "      <td>220.16</td>\n",
       "      <td>N</td>\n",
       "      <td>2023-06-11</td>\n",
       "      <td>00:38:00</td>\n",
       "    </tr>\n",
       "    <tr>\n",
       "      <th>3</th>\n",
       "      <td>20223353</td>\n",
       "      <td>NaN</td>\n",
       "      <td>Y</td>\n",
       "      <td>O</td>\n",
       "      <td>M</td>\n",
       "      <td>23</td>\n",
       "      <td>DE</td>\n",
       "      <td>N</td>\n",
       "      <td>N</td>\n",
       "      <td>110-125.25</td>\n",
       "      <td>Y</td>\n",
       "      <td>2023-03-02</td>\n",
       "      <td>01:57:34</td>\n",
       "    </tr>\n",
       "    <tr>\n",
       "      <th>4</th>\n",
       "      <td>20070053</td>\n",
       "      <td>MED</td>\n",
       "      <td>N</td>\n",
       "      <td>O</td>\n",
       "      <td>M</td>\n",
       "      <td>32</td>\n",
       "      <td>DE</td>\n",
       "      <td>N</td>\n",
       "      <td>N</td>\n",
       "      <td>110-125.25</td>\n",
       "      <td>N</td>\n",
       "      <td>2021-09-05</td>\n",
       "      <td>00:50:57</td>\n",
       "    </tr>\n",
       "  </tbody>\n",
       "</table>\n",
       "</div>"
      ],
      "text/plain": [
       "   INMATEID CUSTODY_LEVEL BRADH RACE GENDER  AGE INMATE_STATUS_CODE SEALED  \\\n",
       "0  20197307           MAX     Y    B      M   21                 DE      N   \n",
       "1  20223604           MED     Y    O      M   70                 DE      N   \n",
       "2  20031187           MED     Y    O      M   31                 DE      N   \n",
       "3  20223353           NaN     Y    O      M   23                 DE      N   \n",
       "4  20070053           MED     N    O      M   32                 DE      N   \n",
       "\n",
       "  SRG_FLG  TOP_CHARGE INFRACTION        Date      Time  \n",
       "0       Y  110-125.25          Y  2023-03-23  14:49:00  \n",
       "1       N      130.50          N  2023-03-16  21:14:00  \n",
       "2       Y      220.16          N  2023-06-11  00:38:00  \n",
       "3       N  110-125.25          Y  2023-03-02  01:57:34  \n",
       "4       N  110-125.25          N  2021-09-05  00:50:57  "
      ]
     },
     "execution_count": 8,
     "metadata": {},
     "output_type": "execute_result"
    }
   ],
   "source": [
    "# Create new columns for date and time\n",
    "df['Date'] = df['ADMITTED_DT'].dt.date\n",
    "df['Time'] = df['ADMITTED_DT'].dt.time\n",
    "\n",
    "# Drop the original column\n",
    "df = df.drop(columns='ADMITTED_DT')\n",
    "df.head()\n"
   ]
  },
  {
   "cell_type": "code",
   "execution_count": null,
   "metadata": {
    "vscode": {
     "languageId": "sql"
    }
   },
   "outputs": [],
   "source": [
    "-- Adding the Date column\n",
    "ALTER TABLE mytable\n",
    "    ADD COLUMN Date DATE;\n",
    "\n",
    "-- Adding the Time column \n",
    "ALTER TABLE mytable\n",
    "    ADD COLUMN Time TIME;\n",
    "\n",
    "-- Update the new columns with date and time values\n",
    "UPDATE mytable\n",
    "SET Date = DATE(ADMITTED_DT), -- Extracts the date part from ADMITTED_DT\n",
    "    Time = TIME(ADMITTED_DT); -- Extracts the time part from ADMITTED_DT\n",
    "\n",
    "-- Drop the original column \n",
    "ALTER TABLE mytable\n",
    "    DROP COLUMN ADMITTED_DT; \n"
   ]
  },
  {
   "cell_type": "markdown",
   "metadata": {},
   "source": [
    "### Column Level EDA"
   ]
  },
  {
   "cell_type": "markdown",
   "metadata": {},
   "source": [
    "Let's examine the **Inmate ID** Column to see if any of the inmates was incarcerated more than once"
   ]
  },
  {
   "cell_type": "code",
   "execution_count": 9,
   "metadata": {},
   "outputs": [
    {
     "name": "stdout",
     "output_type": "stream",
     "text": [
      "Empty DataFrame\n",
      "Columns: [INMATEID, Count]\n",
      "Index: []\n"
     ]
    }
   ],
   "source": [
    "query = \"SELECT INMATEID, COUNT(*) as Count FROM mytable GROUP BY INMATEID HAVING COUNT(*) > 1;\"\n",
    "result = pd.read_sql_query(query, conn)\n",
    "\n",
    "print(result)"
   ]
  },
  {
   "cell_type": "markdown",
   "metadata": {},
   "source": [
    "We can see above the the resulting dataframe is empty. Since there's only a single occurrence of each inmate, I will drop the **INMATEID** Column "
   ]
  },
  {
   "cell_type": "code",
   "execution_count": 10,
   "metadata": {},
   "outputs": [
    {
     "data": {
      "text/html": [
       "<div>\n",
       "<style scoped>\n",
       "    .dataframe tbody tr th:only-of-type {\n",
       "        vertical-align: middle;\n",
       "    }\n",
       "\n",
       "    .dataframe tbody tr th {\n",
       "        vertical-align: top;\n",
       "    }\n",
       "\n",
       "    .dataframe thead th {\n",
       "        text-align: right;\n",
       "    }\n",
       "</style>\n",
       "<table border=\"1\" class=\"dataframe\">\n",
       "  <thead>\n",
       "    <tr style=\"text-align: right;\">\n",
       "      <th></th>\n",
       "      <th>CUSTODY_LEVEL</th>\n",
       "      <th>BRADH</th>\n",
       "      <th>RACE</th>\n",
       "      <th>GENDER</th>\n",
       "      <th>AGE</th>\n",
       "      <th>INMATE_STATUS_CODE</th>\n",
       "      <th>SEALED</th>\n",
       "      <th>SRG_FLG</th>\n",
       "      <th>TOP_CHARGE</th>\n",
       "      <th>INFRACTION</th>\n",
       "      <th>Date</th>\n",
       "      <th>Time</th>\n",
       "    </tr>\n",
       "  </thead>\n",
       "  <tbody>\n",
       "    <tr>\n",
       "      <th>0</th>\n",
       "      <td>MAX</td>\n",
       "      <td>Y</td>\n",
       "      <td>B</td>\n",
       "      <td>M</td>\n",
       "      <td>21</td>\n",
       "      <td>DE</td>\n",
       "      <td>N</td>\n",
       "      <td>Y</td>\n",
       "      <td>110-125.25</td>\n",
       "      <td>Y</td>\n",
       "      <td>2023-03-23</td>\n",
       "      <td>14:49:00</td>\n",
       "    </tr>\n",
       "    <tr>\n",
       "      <th>1</th>\n",
       "      <td>MED</td>\n",
       "      <td>Y</td>\n",
       "      <td>O</td>\n",
       "      <td>M</td>\n",
       "      <td>70</td>\n",
       "      <td>DE</td>\n",
       "      <td>N</td>\n",
       "      <td>N</td>\n",
       "      <td>130.50</td>\n",
       "      <td>N</td>\n",
       "      <td>2023-03-16</td>\n",
       "      <td>21:14:00</td>\n",
       "    </tr>\n",
       "    <tr>\n",
       "      <th>2</th>\n",
       "      <td>MED</td>\n",
       "      <td>Y</td>\n",
       "      <td>O</td>\n",
       "      <td>M</td>\n",
       "      <td>31</td>\n",
       "      <td>DE</td>\n",
       "      <td>N</td>\n",
       "      <td>Y</td>\n",
       "      <td>220.16</td>\n",
       "      <td>N</td>\n",
       "      <td>2023-06-11</td>\n",
       "      <td>00:38:00</td>\n",
       "    </tr>\n",
       "    <tr>\n",
       "      <th>3</th>\n",
       "      <td>NaN</td>\n",
       "      <td>Y</td>\n",
       "      <td>O</td>\n",
       "      <td>M</td>\n",
       "      <td>23</td>\n",
       "      <td>DE</td>\n",
       "      <td>N</td>\n",
       "      <td>N</td>\n",
       "      <td>110-125.25</td>\n",
       "      <td>Y</td>\n",
       "      <td>2023-03-02</td>\n",
       "      <td>01:57:34</td>\n",
       "    </tr>\n",
       "    <tr>\n",
       "      <th>4</th>\n",
       "      <td>MED</td>\n",
       "      <td>N</td>\n",
       "      <td>O</td>\n",
       "      <td>M</td>\n",
       "      <td>32</td>\n",
       "      <td>DE</td>\n",
       "      <td>N</td>\n",
       "      <td>N</td>\n",
       "      <td>110-125.25</td>\n",
       "      <td>N</td>\n",
       "      <td>2021-09-05</td>\n",
       "      <td>00:50:57</td>\n",
       "    </tr>\n",
       "  </tbody>\n",
       "</table>\n",
       "</div>"
      ],
      "text/plain": [
       "  CUSTODY_LEVEL BRADH RACE GENDER  AGE INMATE_STATUS_CODE SEALED SRG_FLG  \\\n",
       "0           MAX     Y    B      M   21                 DE      N       Y   \n",
       "1           MED     Y    O      M   70                 DE      N       N   \n",
       "2           MED     Y    O      M   31                 DE      N       Y   \n",
       "3           NaN     Y    O      M   23                 DE      N       N   \n",
       "4           MED     N    O      M   32                 DE      N       N   \n",
       "\n",
       "   TOP_CHARGE INFRACTION        Date      Time  \n",
       "0  110-125.25          Y  2023-03-23  14:49:00  \n",
       "1      130.50          N  2023-03-16  21:14:00  \n",
       "2      220.16          N  2023-06-11  00:38:00  \n",
       "3  110-125.25          Y  2023-03-02  01:57:34  \n",
       "4  110-125.25          N  2021-09-05  00:50:57  "
      ]
     },
     "execution_count": 10,
     "metadata": {},
     "output_type": "execute_result"
    }
   ],
   "source": [
    "df = df.drop(columns = 'INMATEID', axis=1)\n",
    "df.head()"
   ]
  },
  {
   "cell_type": "markdown",
   "metadata": {},
   "source": [
    "Here's the SQL statement alternative"
   ]
  },
  {
   "cell_type": "code",
   "execution_count": null,
   "metadata": {
    "vscode": {
     "languageId": "sql"
    }
   },
   "outputs": [],
   "source": [
    "ALTER TABLE mytable\n",
    "    DROP COLUMN DISCHARGED_DT;"
   ]
  },
  {
   "cell_type": "markdown",
   "metadata": {},
   "source": [
    "#### Let's examine the values in the **CUSTODY_LEVEL** Column "
   ]
  },
  {
   "cell_type": "code",
   "execution_count": 13,
   "metadata": {},
   "outputs": [
    {
     "name": "stdout",
     "output_type": "stream",
     "text": [
      "  CUSTODY_LEVEL  count\n",
      "0          None     33\n",
      "1           MAX   1773\n",
      "2           MED   2614\n",
      "3           MIN   1726\n"
     ]
    }
   ],
   "source": [
    "query = \"SELECT CUSTODY_LEVEL, COUNT(*) as count FROM mytable GROUP BY CUSTODY_LEVEL;\"\n",
    "result = pd.read_sql_query(query, conn)\n",
    "\n",
    "print(result)"
   ]
  },
  {
   "cell_type": "markdown",
   "metadata": {},
   "source": [
    "The Medium level of security has the highest prevalence in the dataset. Minimum and Maximum security levels have roughly the same number of inmates."
   ]
  },
  {
   "cell_type": "markdown",
   "metadata": {},
   "source": [
    "#### Let's examine the values in the **BRADH** Column"
   ]
  },
  {
   "cell_type": "markdown",
   "metadata": {},
   "source": [
    "Reminder: this column indicates whether or not an inmate is under mental health observations"
   ]
  },
  {
   "cell_type": "code",
   "execution_count": 14,
   "metadata": {},
   "outputs": [
    {
     "name": "stdout",
     "output_type": "stream",
     "text": [
      "  BRADH  count\n",
      "0     N   2913\n",
      "1     Y   3233\n"
     ]
    }
   ],
   "source": [
    "query = \"SELECT BRADH, COUNT(*) as count FROM mytable GROUP BY BRADH;\"\n",
    "result = pd.read_sql_query(query, conn)\n",
    "\n",
    "print(result)"
   ]
  },
  {
   "cell_type": "markdown",
   "metadata": {},
   "source": [
    "A slim majority of the inmates are under a mental health observation. According to [MHA](https://mhanational.org/issues/state-mental-health-america) (Mental Healh America), about 21% of American adults suffer from a mental health illness. This dataset deviates from the national average by a large amount. "
   ]
  },
  {
   "cell_type": "markdown",
   "metadata": {},
   "source": [
    "#### Let's examine the values in the **Race** Column"
   ]
  },
  {
   "cell_type": "code",
   "execution_count": 15,
   "metadata": {},
   "outputs": [
    {
     "name": "stdout",
     "output_type": "stream",
     "text": [
      "   RACE  Count\n",
      "0  None     18\n",
      "1     A    146\n",
      "2     B   3678\n",
      "3     I     19\n",
      "4     O   1763\n",
      "5     U      9\n",
      "6     W    513\n"
     ]
    }
   ],
   "source": [
    "query = \"SELECT RACE, COUNT(*) as Count FROM mytable GROUP BY RACE;\"\n",
    "result = pd.read_sql_query(query, conn)\n",
    "\n",
    "print(result)"
   ]
  },
  {
   "cell_type": "markdown",
   "metadata": {},
   "source": [
    "Here's a breakdown of what race each identifying letter corresponds to:\n",
    "\n",
    "A: Asian \n",
    "\n",
    "B: Black\n",
    "\n",
    "I: American Indian \n",
    "\n",
    "O: Other\n",
    "\n",
    "U: Unknown\n",
    " \n",
    "W: White"
   ]
  },
  {
   "cell_type": "markdown",
   "metadata": {},
   "source": [
    "Black inmates make up the vast majority of the inmate population compared to any other individual race. However, the *Other* race category still has a significant amount of inmates. It would be interesting to see the *Other* value broken down and made more specific. "
   ]
  },
  {
   "cell_type": "markdown",
   "metadata": {},
   "source": [
    "#### Let's examine the values in the **Gender** Column"
   ]
  },
  {
   "cell_type": "code",
   "execution_count": 16,
   "metadata": {},
   "outputs": [
    {
     "name": "stdout",
     "output_type": "stream",
     "text": [
      "  GENDER  count\n",
      "0   None     18\n",
      "1      F    382\n",
      "2      M   5746\n"
     ]
    }
   ],
   "source": [
    "query = \"SELECT GENDER, COUNT(*) as count FROM mytable GROUP BY GENDER;\"\n",
    "result = pd.read_sql_query(query, conn)\n",
    "\n",
    "print(result)"
   ]
  },
  {
   "cell_type": "markdown",
   "metadata": {},
   "source": [
    "A massive majority of the dataset is comprised of male inmates. Specifically, only **6%** of the dataset are females."
   ]
  },
  {
   "cell_type": "markdown",
   "metadata": {},
   "source": [
    "#### Let's examine the top 15 values in the **Age** Column"
   ]
  },
  {
   "cell_type": "code",
   "execution_count": 17,
   "metadata": {},
   "outputs": [
    {
     "name": "stdout",
     "output_type": "stream",
     "text": [
      "    AGE  count\n",
      "0    31    250\n",
      "1    28    228\n",
      "2    33    225\n",
      "3    35    219\n",
      "4    32    215\n",
      "5    25    215\n",
      "6    30    211\n",
      "7    29    211\n",
      "8    26    200\n",
      "9    23    195\n",
      "10   20    195\n",
      "11   27    193\n",
      "12   34    188\n",
      "13   21    184\n",
      "14   24    183\n"
     ]
    }
   ],
   "source": [
    "query = \"\"\"SELECT AGE, COUNT(*) as count FROM mytable \n",
    "            GROUP BY AGE\n",
    "            ORDER BY COUNT(*) DESC;\"\"\"\n",
    "result = pd.read_sql_query(query, conn)\n",
    "\n",
    "print(result.head(15))"
   ]
  },
  {
   "cell_type": "markdown",
   "metadata": {},
   "source": [
    "The top 15 age counts are within the 20-35 age range."
   ]
  },
  {
   "cell_type": "markdown",
   "metadata": {},
   "source": [
    "Let's examine some descriptive statistics "
   ]
  },
  {
   "cell_type": "code",
   "execution_count": 18,
   "metadata": {},
   "outputs": [
    {
     "name": "stdout",
     "output_type": "stream",
     "text": [
      "   Minimum_Age  Maximum_Age  Average_Age\n",
      "0           18           86     35.73137\n"
     ]
    }
   ],
   "source": [
    "query = \"SELECT MIN(AGE) as Minimum_Age, MAX(AGE) as Maximum_Age, AVG(AGE) as Average_Age FROM mytable;\"\n",
    "result = pd.read_sql_query(query, conn)\n",
    "\n",
    "print(result)"
   ]
  },
  {
   "cell_type": "markdown",
   "metadata": {},
   "source": [
    "The maximum age of 86 is very high and could be the basis of further analysis. The average age of the dataset is below the national average of 39% according to the [Bureau of Justice Statistics](https://bjs.ojp.gov/content/pub/pdf/ppi16.pdf). One thing to note is that I was only able to find this information for the year 2016, so the average age may have changed significantly since then."
   ]
  },
  {
   "cell_type": "markdown",
   "metadata": {},
   "source": [
    "#### Let's examine the values in the **Inmate_Status_Code** Column"
   ]
  },
  {
   "cell_type": "code",
   "execution_count": 21,
   "metadata": {},
   "outputs": [
    {
     "name": "stdout",
     "output_type": "stream",
     "text": [
      "  INMATE_STATUS_CODE  Count\n",
      "0                 CS    422\n",
      "1                CSP      7\n",
      "2                 DE   5374\n",
      "3                DEP    219\n",
      "4                DNS     41\n",
      "5                DPV      9\n",
      "6                SCO      3\n",
      "7                SSR     71\n"
     ]
    }
   ],
   "source": [
    "query = \"\"\"SELECT INMATE_STATUS_CODE, COUNT(*) as Count FROM mytable \n",
    "            GROUP BY INMATE_STATUS_CODE;\"\"\"\n",
    "result = pd.read_sql_query(query, conn)\n",
    "\n",
    "print(result)"
   ]
  },
  {
   "cell_type": "markdown",
   "metadata": {},
   "source": [
    "Here's a breakdown of each status code and it's meaning:\n",
    "\n",
    "- CS: City Sentenced\n",
    "- CSP: City Sentenced with VP Warrant\n",
    "- DE: Detainee\n",
    "- DEP: Detainee - with Open Case & VP Warrant\n",
    "- DNS: Detainee - Newly Sentenced to State Time\n",
    "- DPV: Detainee - Technical Parole Violator\n",
    "- SCO: State Prisoner - Court Order\n",
    "- SSR: State Ready"
   ]
  },
  {
   "cell_type": "markdown",
   "metadata": {},
   "source": [
    "A large majority of our inmates are detainees. This could indicate that most of the inmates in this dataset are newly incarcerated. "
   ]
  },
  {
   "cell_type": "markdown",
   "metadata": {},
   "source": [
    "#### Let's examine the values in the **Sealed** Column"
   ]
  },
  {
   "cell_type": "code",
   "execution_count": 22,
   "metadata": {},
   "outputs": [
    {
     "name": "stdout",
     "output_type": "stream",
     "text": [
      "  SEALED  Count\n",
      "0      N   6146\n"
     ]
    }
   ],
   "source": [
    "query = \"\"\"SELECT SEALED, COUNT(*) as Count FROM mytable \n",
    "            GROUP BY SEALED;\"\"\"\n",
    "result = pd.read_sql_query(query, conn)\n",
    "\n",
    "print(result)"
   ]
  },
  {
   "cell_type": "markdown",
   "metadata": {},
   "source": [
    "Since every value is the same, I am going to drop the *SEALED* Column"
   ]
  },
  {
   "cell_type": "code",
   "execution_count": 11,
   "metadata": {},
   "outputs": [
    {
     "data": {
      "text/html": [
       "<div>\n",
       "<style scoped>\n",
       "    .dataframe tbody tr th:only-of-type {\n",
       "        vertical-align: middle;\n",
       "    }\n",
       "\n",
       "    .dataframe tbody tr th {\n",
       "        vertical-align: top;\n",
       "    }\n",
       "\n",
       "    .dataframe thead th {\n",
       "        text-align: right;\n",
       "    }\n",
       "</style>\n",
       "<table border=\"1\" class=\"dataframe\">\n",
       "  <thead>\n",
       "    <tr style=\"text-align: right;\">\n",
       "      <th></th>\n",
       "      <th>CUSTODY_LEVEL</th>\n",
       "      <th>BRADH</th>\n",
       "      <th>RACE</th>\n",
       "      <th>GENDER</th>\n",
       "      <th>AGE</th>\n",
       "      <th>INMATE_STATUS_CODE</th>\n",
       "      <th>SRG_FLG</th>\n",
       "      <th>TOP_CHARGE</th>\n",
       "      <th>INFRACTION</th>\n",
       "      <th>Date</th>\n",
       "      <th>Time</th>\n",
       "    </tr>\n",
       "  </thead>\n",
       "  <tbody>\n",
       "    <tr>\n",
       "      <th>0</th>\n",
       "      <td>MAX</td>\n",
       "      <td>Y</td>\n",
       "      <td>B</td>\n",
       "      <td>M</td>\n",
       "      <td>21</td>\n",
       "      <td>DE</td>\n",
       "      <td>Y</td>\n",
       "      <td>110-125.25</td>\n",
       "      <td>Y</td>\n",
       "      <td>2023-03-23</td>\n",
       "      <td>14:49:00</td>\n",
       "    </tr>\n",
       "    <tr>\n",
       "      <th>1</th>\n",
       "      <td>MED</td>\n",
       "      <td>Y</td>\n",
       "      <td>O</td>\n",
       "      <td>M</td>\n",
       "      <td>70</td>\n",
       "      <td>DE</td>\n",
       "      <td>N</td>\n",
       "      <td>130.50</td>\n",
       "      <td>N</td>\n",
       "      <td>2023-03-16</td>\n",
       "      <td>21:14:00</td>\n",
       "    </tr>\n",
       "    <tr>\n",
       "      <th>2</th>\n",
       "      <td>MED</td>\n",
       "      <td>Y</td>\n",
       "      <td>O</td>\n",
       "      <td>M</td>\n",
       "      <td>31</td>\n",
       "      <td>DE</td>\n",
       "      <td>Y</td>\n",
       "      <td>220.16</td>\n",
       "      <td>N</td>\n",
       "      <td>2023-06-11</td>\n",
       "      <td>00:38:00</td>\n",
       "    </tr>\n",
       "    <tr>\n",
       "      <th>3</th>\n",
       "      <td>NaN</td>\n",
       "      <td>Y</td>\n",
       "      <td>O</td>\n",
       "      <td>M</td>\n",
       "      <td>23</td>\n",
       "      <td>DE</td>\n",
       "      <td>N</td>\n",
       "      <td>110-125.25</td>\n",
       "      <td>Y</td>\n",
       "      <td>2023-03-02</td>\n",
       "      <td>01:57:34</td>\n",
       "    </tr>\n",
       "    <tr>\n",
       "      <th>4</th>\n",
       "      <td>MED</td>\n",
       "      <td>N</td>\n",
       "      <td>O</td>\n",
       "      <td>M</td>\n",
       "      <td>32</td>\n",
       "      <td>DE</td>\n",
       "      <td>N</td>\n",
       "      <td>110-125.25</td>\n",
       "      <td>N</td>\n",
       "      <td>2021-09-05</td>\n",
       "      <td>00:50:57</td>\n",
       "    </tr>\n",
       "  </tbody>\n",
       "</table>\n",
       "</div>"
      ],
      "text/plain": [
       "  CUSTODY_LEVEL BRADH RACE GENDER  AGE INMATE_STATUS_CODE SRG_FLG  TOP_CHARGE  \\\n",
       "0           MAX     Y    B      M   21                 DE       Y  110-125.25   \n",
       "1           MED     Y    O      M   70                 DE       N      130.50   \n",
       "2           MED     Y    O      M   31                 DE       Y      220.16   \n",
       "3           NaN     Y    O      M   23                 DE       N  110-125.25   \n",
       "4           MED     N    O      M   32                 DE       N  110-125.25   \n",
       "\n",
       "  INFRACTION        Date      Time  \n",
       "0          Y  2023-03-23  14:49:00  \n",
       "1          N  2023-03-16  21:14:00  \n",
       "2          N  2023-06-11  00:38:00  \n",
       "3          Y  2023-03-02  01:57:34  \n",
       "4          N  2021-09-05  00:50:57  "
      ]
     },
     "execution_count": 11,
     "metadata": {},
     "output_type": "execute_result"
    }
   ],
   "source": [
    "df = df.drop(columns='SEALED', axis=1)\n",
    "df.head()"
   ]
  },
  {
   "cell_type": "markdown",
   "metadata": {},
   "source": [
    "Here's how the above code would be done in SQL"
   ]
  },
  {
   "cell_type": "code",
   "execution_count": null,
   "metadata": {
    "vscode": {
     "languageId": "sql"
    }
   },
   "outputs": [],
   "source": [
    "ALTER TABLE mytable\n",
    "    DROP COLUMN SEALED;"
   ]
  },
  {
   "cell_type": "markdown",
   "metadata": {},
   "source": [
    "#### Let's examine the values in the **SRG_FLG** Column"
   ]
  },
  {
   "cell_type": "code",
   "execution_count": 25,
   "metadata": {},
   "outputs": [
    {
     "name": "stdout",
     "output_type": "stream",
     "text": [
      "  SRG_FLG  Count\n",
      "0       N   4886\n",
      "1       Y   1260\n"
     ]
    }
   ],
   "source": [
    "query = \"\"\"SELECT SRG_FLG, COUNT(*) as Count FROM mytable \n",
    "            GROUP BY SRG_FLG;\"\"\"\n",
    "result = pd.read_sql_query(query, conn)\n",
    "\n",
    "print(result)"
   ]
  },
  {
   "cell_type": "markdown",
   "metadata": {},
   "source": [
    "As a reminder, this column signifies if the inmate has an approved gang affiliation. The majority of the inmates do not have a gang affiliation, but there is still a significant number of inmates in a gang."
   ]
  },
  {
   "cell_type": "markdown",
   "metadata": {},
   "source": [
    "#### Let's examine the values in the **Top_Charge** Column"
   ]
  },
  {
   "cell_type": "code",
   "execution_count": 31,
   "metadata": {},
   "outputs": [
    {
     "name": "stdout",
     "output_type": "stream",
     "text": [
      "    TOP_CHARGE  Count\n",
      "0       125.25    890\n",
      "1   110-125.25    588\n",
      "2       160.15    461\n",
      "3       265.03    423\n",
      "4       120.05    357\n",
      "5       140.25    245\n",
      "6       140.20    204\n",
      "7       160.10    188\n",
      "8         None    171\n",
      "9       120.10    148\n",
      "10      220.16    147\n",
      "11      155.25     99\n",
      "12      140.30     87\n",
      "13  110-120.10     87\n",
      "14      120.00     84\n",
      "15      220.21     82\n",
      "16      155.30     74\n",
      "17      215.51     71\n",
      "18      160.05     67\n",
      "19  110-265.03     62\n",
      "20      130.35     60\n",
      "21      105.15     54\n"
     ]
    }
   ],
   "source": [
    "query = \"\"\"SELECT TOP_CHARGE, COUNT(*) as Count FROM mytable \n",
    "            GROUP BY TOP_CHARGE\n",
    "            HAVING COUNT(*) > 50\n",
    "            ORDER BY COUNT(*) DESC;\"\"\"\n",
    "result = pd.read_sql_query(query, conn)\n",
    "\n",
    "print(result)"
   ]
  },
  {
   "cell_type": "markdown",
   "metadata": {},
   "source": [
    "These values are not the most interpretable without outside sources. Upon some research, the top 2 charges are related to murder and attempted murder. I'd recommend visiting [NYSenate.gov](https://www.nysenate.gov/legislation/laws/PEN) to find any specific penal code that you are interested in further evaluating. I will be using this website any time I need to find specific descriptions of penal codes. "
   ]
  },
  {
   "cell_type": "markdown",
   "metadata": {},
   "source": [
    "#### Let's examine the values in the **Infraction** Column"
   ]
  },
  {
   "cell_type": "code",
   "execution_count": 33,
   "metadata": {},
   "outputs": [
    {
     "name": "stdout",
     "output_type": "stream",
     "text": [
      "  INFRACTION  Count\n",
      "0          N   4217\n",
      "1          Y   1929\n"
     ]
    }
   ],
   "source": [
    "query = \"\"\"SELECT INFRACTION, COUNT(*) as Count FROM mytable \n",
    "            GROUP BY INFRACTION;\"\"\"\n",
    "result = pd.read_sql_query(query, conn)\n",
    "\n",
    "print(result)"
   ]
  },
  {
   "cell_type": "markdown",
   "metadata": {},
   "source": [
    "The infraction column signifies if any inmate had any disciplinary actions taken against them due to their actions while imprisoned. Nearly 2000 inmates had violated prison rules, and as a result earned an infraction. "
   ]
  },
  {
   "cell_type": "markdown",
   "metadata": {},
   "source": [
    "#### Let's examine the values in the **Date** Column"
   ]
  },
  {
   "cell_type": "markdown",
   "metadata": {},
   "source": [
    "If the codes below to query the date counts/values do not run, run the code directly below this cell again and try again"
   ]
  },
  {
   "cell_type": "code",
   "execution_count": 13,
   "metadata": {},
   "outputs": [
    {
     "data": {
      "text/plain": [
       "6146"
      ]
     },
     "execution_count": 13,
     "metadata": {},
     "output_type": "execute_result"
    }
   ],
   "source": [
    "# conn = sqlite3.connect('crime_database.db')\n",
    "# df.to_sql('mytable', conn, if_exists='replace', index=False)\n"
   ]
  },
  {
   "cell_type": "code",
   "execution_count": 14,
   "metadata": {},
   "outputs": [
    {
     "name": "stdout",
     "output_type": "stream",
     "text": [
      "          Date  Count\n",
      "0   2023-07-19     60\n",
      "1   2023-07-07     58\n",
      "2   2023-07-18     57\n",
      "3   2023-07-13     55\n",
      "4   2023-07-17     51\n",
      "5   2023-06-28     50\n",
      "6   2023-07-14     48\n",
      "7   2023-07-03     47\n",
      "8   2023-07-16     46\n",
      "9   2023-07-12     46\n",
      "10  2023-06-15     46\n",
      "11  2023-06-29     43\n",
      "12  2023-07-06     42\n",
      "13  2023-06-21     42\n",
      "14  2023-06-30     38\n",
      "15  2023-05-04     36\n",
      "16  2023-07-10     35\n",
      "17  2023-07-09     35\n",
      "18  2023-06-08     33\n",
      "19  2023-06-06     32\n"
     ]
    }
   ],
   "source": [
    "query = \"\"\"SELECT Date, COUNT(*) as Count FROM mytable \n",
    "            GROUP BY Date\n",
    "            HAVING COUNT(*) > 1\n",
    "            ORDER BY COUNT(*) DESC;\"\"\"\n",
    "result = pd.read_sql_query(query, conn)\n",
    "\n",
    "print(result.head(20))"
   ]
  },
  {
   "cell_type": "markdown",
   "metadata": {},
   "source": [
    "Among the top 20 dates, all except one are in either June or July. Now, I'll check what the date range for the dataset is. "
   ]
  },
  {
   "cell_type": "code",
   "execution_count": 56,
   "metadata": {},
   "outputs": [
    {
     "name": "stdout",
     "output_type": "stream",
     "text": [
      "    MIN(Date)   MAX(Date)\n",
      "0  2012-10-28  2023-07-20\n"
     ]
    }
   ],
   "source": [
    "query = \"\"\"SELECT MIN(Date), MAX(Date) FROM mytable \n",
    "            ;\"\"\"\n",
    "result = pd.read_sql_query(query, conn)\n",
    "\n",
    "print(result)"
   ]
  },
  {
   "cell_type": "markdown",
   "metadata": {},
   "source": [
    "Now we know that our dates range from October 28, 2012 to July 20, 2023. It's very interesting then why all the highest arrest count dates are the most recent. I even expanded the query to list the top 50 dates and they were all still in 2023. "
   ]
  },
  {
   "cell_type": "markdown",
   "metadata": {},
   "source": [
    "#### Let's examine the values in the **Time** Column"
   ]
  },
  {
   "cell_type": "code",
   "execution_count": 64,
   "metadata": {},
   "outputs": [
    {
     "name": "stdout",
     "output_type": "stream",
     "text": [
      "               Time  Count\n",
      "0   00:52:00.000000      8\n",
      "1   01:23:00.000000      7\n",
      "2   00:57:00.000000      7\n",
      "3   23:57:00.000000      6\n",
      "4   01:19:00.000000      6\n",
      "5   21:03:00.000000      5\n",
      "6   20:58:00.000000      5\n",
      "7   20:47:00.000000      5\n",
      "8   20:42:00.000000      5\n",
      "9   18:50:00.000000      5\n",
      "10  17:09:00.000000      5\n",
      "11  16:56:00.000000      5\n",
      "12  16:10:00.000000      5\n",
      "13  01:06:00.000000      5\n",
      "14  00:58:00.000000      5\n",
      "15  00:50:00.000000      5\n",
      "16  00:49:00.000000      5\n",
      "17  00:21:00.000000      5\n",
      "18  23:58:00.000000      4\n",
      "19  23:35:00.000000      4\n"
     ]
    }
   ],
   "source": [
    "query = \"\"\"SELECT Time, COUNT(*) as Count FROM mytable \n",
    "            GROUP BY Time\n",
    "            HAVING COUNT(*) > 1\n",
    "            ORDER BY COUNT(*) DESC;\"\"\"\n",
    "result = pd.read_sql_query(query, conn)\n",
    "\n",
    "print(result.head(20))"
   ]
  },
  {
   "cell_type": "markdown",
   "metadata": {},
   "source": [
    "Above, I queried the times that had the highest number of arrests. Most of the times are close to midnight. Some are slightly before midnight, and some times are slightly after midnight. "
   ]
  },
  {
   "cell_type": "markdown",
   "metadata": {},
   "source": [
    "Write the DF to a csv for further analysis"
   ]
  },
  {
   "cell_type": "code",
   "execution_count": 13,
   "metadata": {},
   "outputs": [],
   "source": [
    "df.to_csv('criminals.csv', index=False)"
   ]
  },
  {
   "cell_type": "markdown",
   "metadata": {},
   "source": [
    "In the next file, I will extract valuable insights on the dataset through writing SQL queries. "
   ]
  }
 ],
 "metadata": {
  "kernelspec": {
   "display_name": "base",
   "language": "python",
   "name": "python3"
  },
  "language_info": {
   "codemirror_mode": {
    "name": "ipython",
    "version": 3
   },
   "file_extension": ".py",
   "mimetype": "text/x-python",
   "name": "python",
   "nbconvert_exporter": "python",
   "pygments_lexer": "ipython3",
   "version": "3.10.9"
  },
  "orig_nbformat": 4
 },
 "nbformat": 4,
 "nbformat_minor": 2
}
