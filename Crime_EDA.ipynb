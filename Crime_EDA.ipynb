{
 "cells": [
  {
   "cell_type": "markdown",
   "metadata": {},
   "source": [
    "Mixture of pandas and sqlite[https://www.sqlite.org/about.html] to examine the df "
   ]
  },
  {
   "cell_type": "markdown",
   "metadata": {},
   "source": [
    "limitations of sqlite: I can't do much of the data cleansing in sqlite. I'll also include what the sql statement would be to achieve the same results anytime i use pandas. 2 links\n",
    "\n",
    "https://www.simplilearn.com/tutorials/sql-tutorial/what-is-sqlite#:~:text=Limitations%20of%20SQLite&text=SQLite%20only%20allows%20normal%20file,support%20FOR%20EACH%20STATEMENT%20triggers.\n",
    "\n",
    "https://www.sqlite.org/limits.html\n"
   ]
  },
  {
   "cell_type": "code",
   "execution_count": 7,
   "metadata": {},
   "outputs": [],
   "source": [
    "import pandas as pd\n",
    "import sqlite3\n",
    "import pandasql as ps #sql package"
   ]
  },
  {
   "cell_type": "code",
   "execution_count": 3,
   "metadata": {},
   "outputs": [
    {
     "data": {
      "text/html": [
       "<div>\n",
       "<style scoped>\n",
       "    .dataframe tbody tr th:only-of-type {\n",
       "        vertical-align: middle;\n",
       "    }\n",
       "\n",
       "    .dataframe tbody tr th {\n",
       "        vertical-align: top;\n",
       "    }\n",
       "\n",
       "    .dataframe thead th {\n",
       "        text-align: right;\n",
       "    }\n",
       "</style>\n",
       "<table border=\"1\" class=\"dataframe\">\n",
       "  <thead>\n",
       "    <tr style=\"text-align: right;\">\n",
       "      <th></th>\n",
       "      <th>INMATEID</th>\n",
       "      <th>ADMITTED_DT</th>\n",
       "      <th>DISCHARGED_DT</th>\n",
       "      <th>CUSTODY_LEVEL</th>\n",
       "      <th>BRADH</th>\n",
       "      <th>RACE</th>\n",
       "      <th>GENDER</th>\n",
       "      <th>AGE</th>\n",
       "      <th>INMATE_STATUS_CODE</th>\n",
       "      <th>SEALED</th>\n",
       "      <th>SRG_FLG</th>\n",
       "      <th>TOP_CHARGE</th>\n",
       "      <th>INFRACTION</th>\n",
       "    </tr>\n",
       "  </thead>\n",
       "  <tbody>\n",
       "    <tr>\n",
       "      <th>0</th>\n",
       "      <td>20197307</td>\n",
       "      <td>03/23/2023 02:49:00 PM</td>\n",
       "      <td>NaN</td>\n",
       "      <td>MAX</td>\n",
       "      <td>Y</td>\n",
       "      <td>B</td>\n",
       "      <td>M</td>\n",
       "      <td>21</td>\n",
       "      <td>DE</td>\n",
       "      <td>N</td>\n",
       "      <td>Y</td>\n",
       "      <td>110-125.25</td>\n",
       "      <td>Y</td>\n",
       "    </tr>\n",
       "    <tr>\n",
       "      <th>1</th>\n",
       "      <td>20223604</td>\n",
       "      <td>03/16/2023 09:14:00 PM</td>\n",
       "      <td>NaN</td>\n",
       "      <td>MED</td>\n",
       "      <td>Y</td>\n",
       "      <td>O</td>\n",
       "      <td>M</td>\n",
       "      <td>70</td>\n",
       "      <td>DE</td>\n",
       "      <td>N</td>\n",
       "      <td>N</td>\n",
       "      <td>130.50</td>\n",
       "      <td>N</td>\n",
       "    </tr>\n",
       "    <tr>\n",
       "      <th>2</th>\n",
       "      <td>20031187</td>\n",
       "      <td>06/11/2023 12:38:00 AM</td>\n",
       "      <td>NaN</td>\n",
       "      <td>MED</td>\n",
       "      <td>Y</td>\n",
       "      <td>O</td>\n",
       "      <td>M</td>\n",
       "      <td>31</td>\n",
       "      <td>DE</td>\n",
       "      <td>N</td>\n",
       "      <td>Y</td>\n",
       "      <td>220.16</td>\n",
       "      <td>N</td>\n",
       "    </tr>\n",
       "    <tr>\n",
       "      <th>3</th>\n",
       "      <td>20223353</td>\n",
       "      <td>03/02/2023 01:57:34 AM</td>\n",
       "      <td>NaN</td>\n",
       "      <td>NaN</td>\n",
       "      <td>Y</td>\n",
       "      <td>O</td>\n",
       "      <td>M</td>\n",
       "      <td>23</td>\n",
       "      <td>DE</td>\n",
       "      <td>N</td>\n",
       "      <td>N</td>\n",
       "      <td>110-125.25</td>\n",
       "      <td>Y</td>\n",
       "    </tr>\n",
       "    <tr>\n",
       "      <th>4</th>\n",
       "      <td>20070053</td>\n",
       "      <td>09/05/2021 12:50:57 AM</td>\n",
       "      <td>NaN</td>\n",
       "      <td>MED</td>\n",
       "      <td>N</td>\n",
       "      <td>O</td>\n",
       "      <td>M</td>\n",
       "      <td>32</td>\n",
       "      <td>DE</td>\n",
       "      <td>N</td>\n",
       "      <td>N</td>\n",
       "      <td>110-125.25</td>\n",
       "      <td>N</td>\n",
       "    </tr>\n",
       "    <tr>\n",
       "      <th>...</th>\n",
       "      <td>...</td>\n",
       "      <td>...</td>\n",
       "      <td>...</td>\n",
       "      <td>...</td>\n",
       "      <td>...</td>\n",
       "      <td>...</td>\n",
       "      <td>...</td>\n",
       "      <td>...</td>\n",
       "      <td>...</td>\n",
       "      <td>...</td>\n",
       "      <td>...</td>\n",
       "      <td>...</td>\n",
       "      <td>...</td>\n",
       "    </tr>\n",
       "    <tr>\n",
       "      <th>6141</th>\n",
       "      <td>20140924</td>\n",
       "      <td>07/28/2022 02:08:38 AM</td>\n",
       "      <td>NaN</td>\n",
       "      <td>MED</td>\n",
       "      <td>Y</td>\n",
       "      <td>W</td>\n",
       "      <td>M</td>\n",
       "      <td>44</td>\n",
       "      <td>CS</td>\n",
       "      <td>N</td>\n",
       "      <td>N</td>\n",
       "      <td>270.25</td>\n",
       "      <td>N</td>\n",
       "    </tr>\n",
       "    <tr>\n",
       "      <th>6142</th>\n",
       "      <td>20008122</td>\n",
       "      <td>07/13/2023 08:47:04 PM</td>\n",
       "      <td>NaN</td>\n",
       "      <td>MIN</td>\n",
       "      <td>N</td>\n",
       "      <td>O</td>\n",
       "      <td>M</td>\n",
       "      <td>32</td>\n",
       "      <td>DE</td>\n",
       "      <td>N</td>\n",
       "      <td>N</td>\n",
       "      <td>120.00</td>\n",
       "      <td>N</td>\n",
       "    </tr>\n",
       "    <tr>\n",
       "      <th>6143</th>\n",
       "      <td>20206710</td>\n",
       "      <td>07/13/2023 07:21:01 PM</td>\n",
       "      <td>NaN</td>\n",
       "      <td>MAX</td>\n",
       "      <td>N</td>\n",
       "      <td>O</td>\n",
       "      <td>M</td>\n",
       "      <td>23</td>\n",
       "      <td>DE</td>\n",
       "      <td>N</td>\n",
       "      <td>N</td>\n",
       "      <td>120.05</td>\n",
       "      <td>N</td>\n",
       "    </tr>\n",
       "    <tr>\n",
       "      <th>6144</th>\n",
       "      <td>20220543</td>\n",
       "      <td>09/07/2022 04:43:55 PM</td>\n",
       "      <td>NaN</td>\n",
       "      <td>MAX</td>\n",
       "      <td>N</td>\n",
       "      <td>O</td>\n",
       "      <td>M</td>\n",
       "      <td>20</td>\n",
       "      <td>DE</td>\n",
       "      <td>N</td>\n",
       "      <td>N</td>\n",
       "      <td>NaN</td>\n",
       "      <td>Y</td>\n",
       "    </tr>\n",
       "    <tr>\n",
       "      <th>6145</th>\n",
       "      <td>27488</td>\n",
       "      <td>03/17/2023 11:21:46 PM</td>\n",
       "      <td>NaN</td>\n",
       "      <td>MIN</td>\n",
       "      <td>Y</td>\n",
       "      <td>O</td>\n",
       "      <td>M</td>\n",
       "      <td>67</td>\n",
       "      <td>DE</td>\n",
       "      <td>N</td>\n",
       "      <td>N</td>\n",
       "      <td>140.25</td>\n",
       "      <td>N</td>\n",
       "    </tr>\n",
       "  </tbody>\n",
       "</table>\n",
       "<p>6146 rows × 13 columns</p>\n",
       "</div>"
      ],
      "text/plain": [
       "      INMATEID             ADMITTED_DT  DISCHARGED_DT CUSTODY_LEVEL BRADH  \\\n",
       "0     20197307  03/23/2023 02:49:00 PM            NaN           MAX     Y   \n",
       "1     20223604  03/16/2023 09:14:00 PM            NaN           MED     Y   \n",
       "2     20031187  06/11/2023 12:38:00 AM            NaN           MED     Y   \n",
       "3     20223353  03/02/2023 01:57:34 AM            NaN           NaN     Y   \n",
       "4     20070053  09/05/2021 12:50:57 AM            NaN           MED     N   \n",
       "...        ...                     ...            ...           ...   ...   \n",
       "6141  20140924  07/28/2022 02:08:38 AM            NaN           MED     Y   \n",
       "6142  20008122  07/13/2023 08:47:04 PM            NaN           MIN     N   \n",
       "6143  20206710  07/13/2023 07:21:01 PM            NaN           MAX     N   \n",
       "6144  20220543  09/07/2022 04:43:55 PM            NaN           MAX     N   \n",
       "6145     27488  03/17/2023 11:21:46 PM            NaN           MIN     Y   \n",
       "\n",
       "     RACE GENDER  AGE INMATE_STATUS_CODE SEALED SRG_FLG  TOP_CHARGE INFRACTION  \n",
       "0       B      M   21                 DE      N       Y  110-125.25          Y  \n",
       "1       O      M   70                 DE      N       N      130.50          N  \n",
       "2       O      M   31                 DE      N       Y      220.16          N  \n",
       "3       O      M   23                 DE      N       N  110-125.25          Y  \n",
       "4       O      M   32                 DE      N       N  110-125.25          N  \n",
       "...   ...    ...  ...                ...    ...     ...         ...        ...  \n",
       "6141    W      M   44                 CS      N       N      270.25          N  \n",
       "6142    O      M   32                 DE      N       N      120.00          N  \n",
       "6143    O      M   23                 DE      N       N      120.05          N  \n",
       "6144    O      M   20                 DE      N       N         NaN          Y  \n",
       "6145    O      M   67                 DE      N       N      140.25          N  \n",
       "\n",
       "[6146 rows x 13 columns]"
      ]
     },
     "execution_count": 3,
     "metadata": {},
     "output_type": "execute_result"
    }
   ],
   "source": [
    "df = pd.read_csv('Daily_Inmates_In_Custody.csv')\n",
    "df"
   ]
  },
  {
   "cell_type": "code",
   "execution_count": 36,
   "metadata": {},
   "outputs": [
    {
     "name": "stdout",
     "output_type": "stream",
     "text": [
      "INMATEID                       int64\n",
      "ADMITTED_DT           datetime64[ns]\n",
      "DISCHARGED_DT         datetime64[ns]\n",
      "CUSTODY_LEVEL                 object\n",
      "BRADH                         object\n",
      "RACE                          object\n",
      "GENDER                        object\n",
      "AGE                            int64\n",
      "INMATE_STATUS_CODE            object\n",
      "SEALED                        object\n",
      "SRG_FLG                       object\n",
      "TOP_CHARGE                    object\n",
      "INFRACTION                    object\n",
      "dtype: object\n"
     ]
    }
   ],
   "source": [
    "import pandas as pd\n",
    "\n",
    "# Assuming you have already loaded your DataFrame 'df'\n",
    "\n",
    "# Convert 'ADMITTED_DT' and 'DISCHARGED_DT' columns to datetime data type\n",
    "df['ADMITTED_DT'] = pd.to_datetime(df['ADMITTED_DT'])\n",
    "df['DISCHARGED_DT'] = pd.to_datetime(df['DISCHARGED_DT'])\n",
    "\n",
    "# Check the data types after the conversion\n",
    "print(df.dtypes)\n"
   ]
  },
  {
   "cell_type": "markdown",
   "metadata": {},
   "source": []
  },
  {
   "cell_type": "code",
   "execution_count": null,
   "metadata": {
    "vscode": {
     "languageId": "sql"
    }
   },
   "outputs": [],
   "source": [
    "UPDATE mytable\n",
    "\n",
    "SET ADMITTED_DT = CAST(ADMITTED_DT AS DATETIME),\n",
    "\n",
    "    DISCHARGED_DT = CAST(DISCHARGED_DT AS DATETIME);"
   ]
  },
  {
   "cell_type": "code",
   "execution_count": 39,
   "metadata": {},
   "outputs": [],
   "source": [
    "conn = sqlite3.connect('crime_database.db')\n"
   ]
  },
  {
   "cell_type": "code",
   "execution_count": 40,
   "metadata": {},
   "outputs": [
    {
     "data": {
      "text/plain": [
       "6146"
      ]
     },
     "execution_count": 40,
     "metadata": {},
     "output_type": "execute_result"
    }
   ],
   "source": [
    "df.to_sql('mytable', conn, if_exists='replace', index=False)\n"
   ]
  },
  {
   "cell_type": "code",
   "execution_count": 41,
   "metadata": {},
   "outputs": [
    {
     "name": "stdout",
     "output_type": "stream",
     "text": [
      "   Total_Count\n",
      "0         6146\n"
     ]
    }
   ],
   "source": [
    "query = \"SELECT COUNT(*) as Total_Count FROM mytable \"\n",
    "result = pd.read_sql_query(query, conn)\n",
    "print(result)\n"
   ]
  },
  {
   "cell_type": "code",
   "execution_count": 21,
   "metadata": {},
   "outputs": [
    {
     "name": "stdout",
     "output_type": "stream",
     "text": [
      "              Total_Count\n",
      "0  01/01/2020 12:11:00 PM\n"
     ]
    }
   ],
   "source": [
    "query =\"\"\"SELECT MIN(Admitted_DT) as Total_Count FROM mytable\n",
    "\"\"\"\n",
    "result = pd.read_sql_query(query, conn)\n",
    "print(result)"
   ]
  },
  {
   "cell_type": "code",
   "execution_count": 17,
   "metadata": {},
   "outputs": [
    {
     "name": "stdout",
     "output_type": "stream",
     "text": [
      "   Total_Columns\n",
      "0             13\n"
     ]
    }
   ],
   "source": [
    "import pandas as pd\n",
    "import sqlite3\n",
    "\n",
    "\n",
    "\n",
    "# Define the SQL query\n",
    "query = \"SELECT COUNT(*) as Total_Columns FROM pragma_table_info('mytable')\"\n",
    "\n",
    "# Execute the query and store the result in a DataFrame\n",
    "result = pd.read_sql_query(query, conn)\n",
    "\n",
    "# Print the result\n",
    "print(result)\n"
   ]
  },
  {
   "cell_type": "code",
   "execution_count": 31,
   "metadata": {},
   "outputs": [
    {
     "ename": "DatabaseError",
     "evalue": "Execution failed on sql 'SELECT Admitted_DT, CAST(strftime('%Y-%m-%d %H:%M:%S', Admitted_DT) AS Admitted_Date\nFROM mytable;\n\n': near \"FROM\": syntax error",
     "output_type": "error",
     "traceback": [
      "\u001b[0;31m---------------------------------------------------------------------------\u001b[0m",
      "\u001b[0;31mOperationalError\u001b[0m                          Traceback (most recent call last)",
      "File \u001b[0;32m~/anaconda3/lib/python3.10/site-packages/pandas/io/sql.py:2018\u001b[0m, in \u001b[0;36mSQLiteDatabase.execute\u001b[0;34m(self, *args, **kwargs)\u001b[0m\n\u001b[1;32m   2017\u001b[0m \u001b[39mtry\u001b[39;00m:\n\u001b[0;32m-> 2018\u001b[0m     cur\u001b[39m.\u001b[39;49mexecute(\u001b[39m*\u001b[39;49margs, \u001b[39m*\u001b[39;49m\u001b[39m*\u001b[39;49mkwargs)\n\u001b[1;32m   2019\u001b[0m     \u001b[39mreturn\u001b[39;00m cur\n",
      "\u001b[0;31mOperationalError\u001b[0m: near \"FROM\": syntax error",
      "\nThe above exception was the direct cause of the following exception:\n",
      "\u001b[0;31mDatabaseError\u001b[0m                             Traceback (most recent call last)",
      "Cell \u001b[0;32mIn[31], line 8\u001b[0m\n\u001b[1;32m      2\u001b[0m query \u001b[39m=\u001b[39m \u001b[39m\"\"\"\u001b[39m\u001b[39mSELECT Admitted_DT, CAST(strftime(\u001b[39m\u001b[39m'\u001b[39m\u001b[39m%\u001b[39m\u001b[39mY-\u001b[39m\u001b[39m%\u001b[39m\u001b[39mm-\u001b[39m\u001b[39m%d\u001b[39;00m\u001b[39m \u001b[39m\u001b[39m%\u001b[39m\u001b[39mH:\u001b[39m\u001b[39m%\u001b[39m\u001b[39mM:\u001b[39m\u001b[39m%\u001b[39m\u001b[39mS\u001b[39m\u001b[39m'\u001b[39m\u001b[39m, Admitted_DT) AS Admitted_Date\u001b[39m\n\u001b[1;32m      3\u001b[0m \u001b[39mFROM mytable;\u001b[39m\n\u001b[1;32m      4\u001b[0m \n\u001b[1;32m      5\u001b[0m \u001b[39m\"\"\"\u001b[39m\n\u001b[1;32m      7\u001b[0m \u001b[39m# Execute the query and store the result in a DataFrame\u001b[39;00m\n\u001b[0;32m----> 8\u001b[0m result \u001b[39m=\u001b[39m pd\u001b[39m.\u001b[39;49mread_sql_query(query, conn)\n\u001b[1;32m     10\u001b[0m \u001b[39m# Print the result\u001b[39;00m\n\u001b[1;32m     11\u001b[0m \u001b[39mprint\u001b[39m(result)\n",
      "File \u001b[0;32m~/anaconda3/lib/python3.10/site-packages/pandas/io/sql.py:397\u001b[0m, in \u001b[0;36mread_sql_query\u001b[0;34m(sql, con, index_col, coerce_float, params, parse_dates, chunksize, dtype)\u001b[0m\n\u001b[1;32m    339\u001b[0m \u001b[39m\"\"\"\u001b[39;00m\n\u001b[1;32m    340\u001b[0m \u001b[39mRead SQL query into a DataFrame.\u001b[39;00m\n\u001b[1;32m    341\u001b[0m \n\u001b[0;32m   (...)\u001b[0m\n\u001b[1;32m    394\u001b[0m \u001b[39mparameter will be converted to UTC.\u001b[39;00m\n\u001b[1;32m    395\u001b[0m \u001b[39m\"\"\"\u001b[39;00m\n\u001b[1;32m    396\u001b[0m pandas_sql \u001b[39m=\u001b[39m pandasSQL_builder(con)\n\u001b[0;32m--> 397\u001b[0m \u001b[39mreturn\u001b[39;00m pandas_sql\u001b[39m.\u001b[39;49mread_query(\n\u001b[1;32m    398\u001b[0m     sql,\n\u001b[1;32m    399\u001b[0m     index_col\u001b[39m=\u001b[39;49mindex_col,\n\u001b[1;32m    400\u001b[0m     params\u001b[39m=\u001b[39;49mparams,\n\u001b[1;32m    401\u001b[0m     coerce_float\u001b[39m=\u001b[39;49mcoerce_float,\n\u001b[1;32m    402\u001b[0m     parse_dates\u001b[39m=\u001b[39;49mparse_dates,\n\u001b[1;32m    403\u001b[0m     chunksize\u001b[39m=\u001b[39;49mchunksize,\n\u001b[1;32m    404\u001b[0m     dtype\u001b[39m=\u001b[39;49mdtype,\n\u001b[1;32m    405\u001b[0m )\n",
      "File \u001b[0;32m~/anaconda3/lib/python3.10/site-packages/pandas/io/sql.py:2078\u001b[0m, in \u001b[0;36mSQLiteDatabase.read_query\u001b[0;34m(self, sql, index_col, coerce_float, params, parse_dates, chunksize, dtype)\u001b[0m\n\u001b[1;32m   2066\u001b[0m \u001b[39mdef\u001b[39;00m \u001b[39mread_query\u001b[39m(\n\u001b[1;32m   2067\u001b[0m     \u001b[39mself\u001b[39m,\n\u001b[1;32m   2068\u001b[0m     sql,\n\u001b[0;32m   (...)\u001b[0m\n\u001b[1;32m   2074\u001b[0m     dtype: DtypeArg \u001b[39m|\u001b[39m \u001b[39mNone\u001b[39;00m \u001b[39m=\u001b[39m \u001b[39mNone\u001b[39;00m,\n\u001b[1;32m   2075\u001b[0m ) \u001b[39m-\u001b[39m\u001b[39m>\u001b[39m DataFrame \u001b[39m|\u001b[39m Iterator[DataFrame]:\n\u001b[1;32m   2077\u001b[0m     args \u001b[39m=\u001b[39m _convert_params(sql, params)\n\u001b[0;32m-> 2078\u001b[0m     cursor \u001b[39m=\u001b[39m \u001b[39mself\u001b[39;49m\u001b[39m.\u001b[39;49mexecute(\u001b[39m*\u001b[39;49margs)\n\u001b[1;32m   2079\u001b[0m     columns \u001b[39m=\u001b[39m [col_desc[\u001b[39m0\u001b[39m] \u001b[39mfor\u001b[39;00m col_desc \u001b[39min\u001b[39;00m cursor\u001b[39m.\u001b[39mdescription]\n\u001b[1;32m   2081\u001b[0m     \u001b[39mif\u001b[39;00m chunksize \u001b[39mis\u001b[39;00m \u001b[39mnot\u001b[39;00m \u001b[39mNone\u001b[39;00m:\n",
      "File \u001b[0;32m~/anaconda3/lib/python3.10/site-packages/pandas/io/sql.py:2030\u001b[0m, in \u001b[0;36mSQLiteDatabase.execute\u001b[0;34m(self, *args, **kwargs)\u001b[0m\n\u001b[1;32m   2027\u001b[0m     \u001b[39mraise\u001b[39;00m ex \u001b[39mfrom\u001b[39;00m \u001b[39minner_exc\u001b[39;00m\n\u001b[1;32m   2029\u001b[0m ex \u001b[39m=\u001b[39m DatabaseError(\u001b[39mf\u001b[39m\u001b[39m\"\u001b[39m\u001b[39mExecution failed on sql \u001b[39m\u001b[39m'\u001b[39m\u001b[39m{\u001b[39;00margs[\u001b[39m0\u001b[39m]\u001b[39m}\u001b[39;00m\u001b[39m'\u001b[39m\u001b[39m: \u001b[39m\u001b[39m{\u001b[39;00mexc\u001b[39m}\u001b[39;00m\u001b[39m\"\u001b[39m)\n\u001b[0;32m-> 2030\u001b[0m \u001b[39mraise\u001b[39;00m ex \u001b[39mfrom\u001b[39;00m \u001b[39mexc\u001b[39;00m\n",
      "\u001b[0;31mDatabaseError\u001b[0m: Execution failed on sql 'SELECT Admitted_DT, CAST(strftime('%Y-%m-%d %H:%M:%S', Admitted_DT) AS Admitted_Date\nFROM mytable;\n\n': near \"FROM\": syntax error"
     ]
    }
   ],
   "source": []
  },
  {
   "cell_type": "code",
   "execution_count": 42,
   "metadata": {},
   "outputs": [
    {
     "name": "stdout",
     "output_type": "stream",
     "text": [
      "    cid                name       type  notnull dflt_value  pk\n",
      "0     0            INMATEID    INTEGER        0       None   0\n",
      "1     1         ADMITTED_DT  TIMESTAMP        0       None   0\n",
      "2     2       DISCHARGED_DT  TIMESTAMP        0       None   0\n",
      "3     3       CUSTODY_LEVEL       TEXT        0       None   0\n",
      "4     4               BRADH       TEXT        0       None   0\n",
      "5     5                RACE       TEXT        0       None   0\n",
      "6     6              GENDER       TEXT        0       None   0\n",
      "7     7                 AGE    INTEGER        0       None   0\n",
      "8     8  INMATE_STATUS_CODE       TEXT        0       None   0\n",
      "9     9              SEALED       TEXT        0       None   0\n",
      "10   10             SRG_FLG       TEXT        0       None   0\n",
      "11   11          TOP_CHARGE       TEXT        0       None   0\n",
      "12   12          INFRACTION       TEXT        0       None   0\n"
     ]
    }
   ],
   "source": [
    "# Define the table name\n",
    "table_name = 'mytable'\n",
    "\n",
    "# Execute the PRAGMA query to get column information\n",
    "pragma_query = f\"PRAGMA table_info({table_name});\"\n",
    "column_info = pd.read_sql_query(pragma_query, conn)\n",
    "\n",
    "# Print the result\n",
    "print(column_info)\n"
   ]
  },
  {
   "cell_type": "code",
   "execution_count": null,
   "metadata": {},
   "outputs": [],
   "source": []
  },
  {
   "cell_type": "code",
   "execution_count": null,
   "metadata": {},
   "outputs": [],
   "source": []
  },
  {
   "cell_type": "code",
   "execution_count": 35,
   "metadata": {},
   "outputs": [
    {
     "name": "stdout",
     "output_type": "stream",
     "text": [
      "INMATEID               int64\n",
      "ADMITTED_DT           object\n",
      "DISCHARGED_DT         object\n",
      "CUSTODY_LEVEL         object\n",
      "BRADH                 object\n",
      "RACE                  object\n",
      "GENDER                object\n",
      "AGE                    int64\n",
      "INMATE_STATUS_CODE    object\n",
      "SEALED                object\n",
      "SRG_FLG               object\n",
      "TOP_CHARGE            object\n",
      "INFRACTION            object\n",
      "dtype: object\n"
     ]
    }
   ],
   "source": []
  },
  {
   "cell_type": "code",
   "execution_count": 24,
   "metadata": {},
   "outputs": [
    {
     "data": {
      "text/html": [
       "<div>\n",
       "<style scoped>\n",
       "    .dataframe tbody tr th:only-of-type {\n",
       "        vertical-align: middle;\n",
       "    }\n",
       "\n",
       "    .dataframe tbody tr th {\n",
       "        vertical-align: top;\n",
       "    }\n",
       "\n",
       "    .dataframe thead th {\n",
       "        text-align: right;\n",
       "    }\n",
       "</style>\n",
       "<table border=\"1\" class=\"dataframe\">\n",
       "  <thead>\n",
       "    <tr style=\"text-align: right;\">\n",
       "      <th></th>\n",
       "      <th>count(*)</th>\n",
       "    </tr>\n",
       "  </thead>\n",
       "  <tbody>\n",
       "    <tr>\n",
       "      <th>0</th>\n",
       "      <td>6146</td>\n",
       "    </tr>\n",
       "  </tbody>\n",
       "</table>\n",
       "</div>"
      ],
      "text/plain": [
       "   count(*)\n",
       "0      6146"
      ]
     },
     "execution_count": 24,
     "metadata": {},
     "output_type": "execute_result"
    }
   ],
   "source": [
    "q1 = \"\"\"SELECT count(*) From df \"\"\"\n",
    "\n",
    "result = ps.sqldf(q1, locals())\n",
    "result"
   ]
  },
  {
   "cell_type": "code",
   "execution_count": null,
   "metadata": {
    "vscode": {
     "languageId": "sql"
    }
   },
   "outputs": [],
   "source": [
    "-- High-Level EDA\n",
    "SELECT COUNT(*) AS total_rows FROM your_table;\n",
    "SELECT column_name, COUNT(*) AS count FROM your_table GROUP BY column_name;\n",
    "SELECT column_name, COUNT(*) AS missing_values FROM your_table WHERE column_name IS NULL;\n",
    "SELECT column_name, COUNT(DISTINCT column_name) AS unique_values FROM your_table;\n",
    "\n",
    "-- Column-Specific EDA\n",
    "SELECT MIN(numeric_column) AS min_value, MAX(numeric_column) AS max_value, AVG(numeric_column) AS avg_value FROM your_table;\n",
    "SELECT category_column, COUNT(*) AS count FROM your_table GROUP BY category_column;\n",
    "SELECT date_column, COUNT(*) AS count FROM your_table WHERE date_column BETWEEN '2023-01-01' AND '2023-12-31';\n",
    "SELECT numerical_column_1, numerical_column_2, CORR(numerical_column_1, numerical_column_2) AS correlation FROM your_table;\n"
   ]
  }
 ],
 "metadata": {
  "kernelspec": {
   "display_name": "base",
   "language": "python",
   "name": "python3"
  },
  "language_info": {
   "codemirror_mode": {
    "name": "ipython",
    "version": 3
   },
   "file_extension": ".py",
   "mimetype": "text/x-python",
   "name": "python",
   "nbconvert_exporter": "python",
   "pygments_lexer": "ipython3",
   "version": "3.10.9"
  },
  "orig_nbformat": 4
 },
 "nbformat": 4,
 "nbformat_minor": 2
}
