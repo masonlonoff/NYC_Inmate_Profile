{
 "cells": [
  {
   "cell_type": "markdown",
   "metadata": {},
   "source": [
    "Mixture of pandas and sqlite[https://www.sqlite.org/about.html] to examine the df "
   ]
  },
  {
   "cell_type": "markdown",
   "metadata": {},
   "source": [
    "limitations of sqlite: I can't do much of the data cleansing in sqlite. I'll also include what the sql statement would be to achieve the same results anytime i use pandas. 2 links\n",
    "\n",
    "https://www.simplilearn.com/tutorials/sql-tutorial/what-is-sqlite#:~:text=Limitations%20of%20SQLite&text=SQLite%20only%20allows%20normal%20file,support%20FOR%20EACH%20STATEMENT%20triggers.\n",
    "\n",
    "https://www.sqlite.org/limits.html\n"
   ]
  },
  {
   "cell_type": "markdown",
   "metadata": {},
   "source": [
    "### Importing Neccessary Libraries"
   ]
  },
  {
   "cell_type": "code",
   "execution_count": 6,
   "metadata": {},
   "outputs": [],
   "source": [
    "import pandas as pd\n",
    "import sqlite3\n",
    "import pandasql as ps #sql package"
   ]
  },
  {
   "cell_type": "markdown",
   "metadata": {},
   "source": [
    "### Reading In the Dataset "
   ]
  },
  {
   "cell_type": "code",
   "execution_count": 7,
   "metadata": {},
   "outputs": [
    {
     "data": {
      "text/html": [
       "<div>\n",
       "<style scoped>\n",
       "    .dataframe tbody tr th:only-of-type {\n",
       "        vertical-align: middle;\n",
       "    }\n",
       "\n",
       "    .dataframe tbody tr th {\n",
       "        vertical-align: top;\n",
       "    }\n",
       "\n",
       "    .dataframe thead th {\n",
       "        text-align: right;\n",
       "    }\n",
       "</style>\n",
       "<table border=\"1\" class=\"dataframe\">\n",
       "  <thead>\n",
       "    <tr style=\"text-align: right;\">\n",
       "      <th></th>\n",
       "      <th>INMATEID</th>\n",
       "      <th>ADMITTED_DT</th>\n",
       "      <th>DISCHARGED_DT</th>\n",
       "      <th>CUSTODY_LEVEL</th>\n",
       "      <th>BRADH</th>\n",
       "      <th>RACE</th>\n",
       "      <th>GENDER</th>\n",
       "      <th>AGE</th>\n",
       "      <th>INMATE_STATUS_CODE</th>\n",
       "      <th>SEALED</th>\n",
       "      <th>SRG_FLG</th>\n",
       "      <th>TOP_CHARGE</th>\n",
       "      <th>INFRACTION</th>\n",
       "    </tr>\n",
       "  </thead>\n",
       "  <tbody>\n",
       "    <tr>\n",
       "      <th>0</th>\n",
       "      <td>20197307</td>\n",
       "      <td>03/23/2023 02:49:00 PM</td>\n",
       "      <td>NaN</td>\n",
       "      <td>MAX</td>\n",
       "      <td>Y</td>\n",
       "      <td>B</td>\n",
       "      <td>M</td>\n",
       "      <td>21</td>\n",
       "      <td>DE</td>\n",
       "      <td>N</td>\n",
       "      <td>Y</td>\n",
       "      <td>110-125.25</td>\n",
       "      <td>Y</td>\n",
       "    </tr>\n",
       "    <tr>\n",
       "      <th>1</th>\n",
       "      <td>20223604</td>\n",
       "      <td>03/16/2023 09:14:00 PM</td>\n",
       "      <td>NaN</td>\n",
       "      <td>MED</td>\n",
       "      <td>Y</td>\n",
       "      <td>O</td>\n",
       "      <td>M</td>\n",
       "      <td>70</td>\n",
       "      <td>DE</td>\n",
       "      <td>N</td>\n",
       "      <td>N</td>\n",
       "      <td>130.50</td>\n",
       "      <td>N</td>\n",
       "    </tr>\n",
       "    <tr>\n",
       "      <th>2</th>\n",
       "      <td>20031187</td>\n",
       "      <td>06/11/2023 12:38:00 AM</td>\n",
       "      <td>NaN</td>\n",
       "      <td>MED</td>\n",
       "      <td>Y</td>\n",
       "      <td>O</td>\n",
       "      <td>M</td>\n",
       "      <td>31</td>\n",
       "      <td>DE</td>\n",
       "      <td>N</td>\n",
       "      <td>Y</td>\n",
       "      <td>220.16</td>\n",
       "      <td>N</td>\n",
       "    </tr>\n",
       "    <tr>\n",
       "      <th>3</th>\n",
       "      <td>20223353</td>\n",
       "      <td>03/02/2023 01:57:34 AM</td>\n",
       "      <td>NaN</td>\n",
       "      <td>NaN</td>\n",
       "      <td>Y</td>\n",
       "      <td>O</td>\n",
       "      <td>M</td>\n",
       "      <td>23</td>\n",
       "      <td>DE</td>\n",
       "      <td>N</td>\n",
       "      <td>N</td>\n",
       "      <td>110-125.25</td>\n",
       "      <td>Y</td>\n",
       "    </tr>\n",
       "    <tr>\n",
       "      <th>4</th>\n",
       "      <td>20070053</td>\n",
       "      <td>09/05/2021 12:50:57 AM</td>\n",
       "      <td>NaN</td>\n",
       "      <td>MED</td>\n",
       "      <td>N</td>\n",
       "      <td>O</td>\n",
       "      <td>M</td>\n",
       "      <td>32</td>\n",
       "      <td>DE</td>\n",
       "      <td>N</td>\n",
       "      <td>N</td>\n",
       "      <td>110-125.25</td>\n",
       "      <td>N</td>\n",
       "    </tr>\n",
       "    <tr>\n",
       "      <th>...</th>\n",
       "      <td>...</td>\n",
       "      <td>...</td>\n",
       "      <td>...</td>\n",
       "      <td>...</td>\n",
       "      <td>...</td>\n",
       "      <td>...</td>\n",
       "      <td>...</td>\n",
       "      <td>...</td>\n",
       "      <td>...</td>\n",
       "      <td>...</td>\n",
       "      <td>...</td>\n",
       "      <td>...</td>\n",
       "      <td>...</td>\n",
       "    </tr>\n",
       "    <tr>\n",
       "      <th>6141</th>\n",
       "      <td>20140924</td>\n",
       "      <td>07/28/2022 02:08:38 AM</td>\n",
       "      <td>NaN</td>\n",
       "      <td>MED</td>\n",
       "      <td>Y</td>\n",
       "      <td>W</td>\n",
       "      <td>M</td>\n",
       "      <td>44</td>\n",
       "      <td>CS</td>\n",
       "      <td>N</td>\n",
       "      <td>N</td>\n",
       "      <td>270.25</td>\n",
       "      <td>N</td>\n",
       "    </tr>\n",
       "    <tr>\n",
       "      <th>6142</th>\n",
       "      <td>20008122</td>\n",
       "      <td>07/13/2023 08:47:04 PM</td>\n",
       "      <td>NaN</td>\n",
       "      <td>MIN</td>\n",
       "      <td>N</td>\n",
       "      <td>O</td>\n",
       "      <td>M</td>\n",
       "      <td>32</td>\n",
       "      <td>DE</td>\n",
       "      <td>N</td>\n",
       "      <td>N</td>\n",
       "      <td>120.00</td>\n",
       "      <td>N</td>\n",
       "    </tr>\n",
       "    <tr>\n",
       "      <th>6143</th>\n",
       "      <td>20206710</td>\n",
       "      <td>07/13/2023 07:21:01 PM</td>\n",
       "      <td>NaN</td>\n",
       "      <td>MAX</td>\n",
       "      <td>N</td>\n",
       "      <td>O</td>\n",
       "      <td>M</td>\n",
       "      <td>23</td>\n",
       "      <td>DE</td>\n",
       "      <td>N</td>\n",
       "      <td>N</td>\n",
       "      <td>120.05</td>\n",
       "      <td>N</td>\n",
       "    </tr>\n",
       "    <tr>\n",
       "      <th>6144</th>\n",
       "      <td>20220543</td>\n",
       "      <td>09/07/2022 04:43:55 PM</td>\n",
       "      <td>NaN</td>\n",
       "      <td>MAX</td>\n",
       "      <td>N</td>\n",
       "      <td>O</td>\n",
       "      <td>M</td>\n",
       "      <td>20</td>\n",
       "      <td>DE</td>\n",
       "      <td>N</td>\n",
       "      <td>N</td>\n",
       "      <td>NaN</td>\n",
       "      <td>Y</td>\n",
       "    </tr>\n",
       "    <tr>\n",
       "      <th>6145</th>\n",
       "      <td>27488</td>\n",
       "      <td>03/17/2023 11:21:46 PM</td>\n",
       "      <td>NaN</td>\n",
       "      <td>MIN</td>\n",
       "      <td>Y</td>\n",
       "      <td>O</td>\n",
       "      <td>M</td>\n",
       "      <td>67</td>\n",
       "      <td>DE</td>\n",
       "      <td>N</td>\n",
       "      <td>N</td>\n",
       "      <td>140.25</td>\n",
       "      <td>N</td>\n",
       "    </tr>\n",
       "  </tbody>\n",
       "</table>\n",
       "<p>6146 rows × 13 columns</p>\n",
       "</div>"
      ],
      "text/plain": [
       "      INMATEID             ADMITTED_DT  DISCHARGED_DT CUSTODY_LEVEL BRADH  \\\n",
       "0     20197307  03/23/2023 02:49:00 PM            NaN           MAX     Y   \n",
       "1     20223604  03/16/2023 09:14:00 PM            NaN           MED     Y   \n",
       "2     20031187  06/11/2023 12:38:00 AM            NaN           MED     Y   \n",
       "3     20223353  03/02/2023 01:57:34 AM            NaN           NaN     Y   \n",
       "4     20070053  09/05/2021 12:50:57 AM            NaN           MED     N   \n",
       "...        ...                     ...            ...           ...   ...   \n",
       "6141  20140924  07/28/2022 02:08:38 AM            NaN           MED     Y   \n",
       "6142  20008122  07/13/2023 08:47:04 PM            NaN           MIN     N   \n",
       "6143  20206710  07/13/2023 07:21:01 PM            NaN           MAX     N   \n",
       "6144  20220543  09/07/2022 04:43:55 PM            NaN           MAX     N   \n",
       "6145     27488  03/17/2023 11:21:46 PM            NaN           MIN     Y   \n",
       "\n",
       "     RACE GENDER  AGE INMATE_STATUS_CODE SEALED SRG_FLG  TOP_CHARGE INFRACTION  \n",
       "0       B      M   21                 DE      N       Y  110-125.25          Y  \n",
       "1       O      M   70                 DE      N       N      130.50          N  \n",
       "2       O      M   31                 DE      N       Y      220.16          N  \n",
       "3       O      M   23                 DE      N       N  110-125.25          Y  \n",
       "4       O      M   32                 DE      N       N  110-125.25          N  \n",
       "...   ...    ...  ...                ...    ...     ...         ...        ...  \n",
       "6141    W      M   44                 CS      N       N      270.25          N  \n",
       "6142    O      M   32                 DE      N       N      120.00          N  \n",
       "6143    O      M   23                 DE      N       N      120.05          N  \n",
       "6144    O      M   20                 DE      N       N         NaN          Y  \n",
       "6145    O      M   67                 DE      N       N      140.25          N  \n",
       "\n",
       "[6146 rows x 13 columns]"
      ]
     },
     "execution_count": 7,
     "metadata": {},
     "output_type": "execute_result"
    }
   ],
   "source": [
    "df = pd.read_csv('Daily_Inmates_In_Custody.csv')\n",
    "df"
   ]
  },
  {
   "cell_type": "markdown",
   "metadata": {},
   "source": [
    "### Examining the Dataframes Info"
   ]
  },
  {
   "cell_type": "code",
   "execution_count": 8,
   "metadata": {},
   "outputs": [
    {
     "name": "stdout",
     "output_type": "stream",
     "text": [
      "<class 'pandas.core.frame.DataFrame'>\n",
      "RangeIndex: 6146 entries, 0 to 6145\n",
      "Data columns (total 13 columns):\n",
      " #   Column              Non-Null Count  Dtype  \n",
      "---  ------              --------------  -----  \n",
      " 0   INMATEID            6146 non-null   int64  \n",
      " 1   ADMITTED_DT         6146 non-null   object \n",
      " 2   DISCHARGED_DT       0 non-null      float64\n",
      " 3   CUSTODY_LEVEL       6113 non-null   object \n",
      " 4   BRADH               6146 non-null   object \n",
      " 5   RACE                6128 non-null   object \n",
      " 6   GENDER              6128 non-null   object \n",
      " 7   AGE                 6146 non-null   int64  \n",
      " 8   INMATE_STATUS_CODE  6146 non-null   object \n",
      " 9   SEALED              6146 non-null   object \n",
      " 10  SRG_FLG             6146 non-null   object \n",
      " 11  TOP_CHARGE          5975 non-null   object \n",
      " 12  INFRACTION          6146 non-null   object \n",
      "dtypes: float64(1), int64(2), object(10)\n",
      "memory usage: 624.3+ KB\n"
     ]
    }
   ],
   "source": [
    "df.info()"
   ]
  },
  {
   "cell_type": "markdown",
   "metadata": {},
   "source": [
    "Takeaways:\n",
    "\n",
    "- The discharged date column has 0 values and should be removed\n",
    "\n",
    "- The admitted date column needs its data type to be converted to a datetime and then broken out"
   ]
  },
  {
   "cell_type": "markdown",
   "metadata": {},
   "source": [
    "The SQL alternative for the above code depends on the specific SQL Database you are using. For example, in MySql, this format would query your table data types:"
   ]
  },
  {
   "cell_type": "code",
   "execution_count": null,
   "metadata": {
    "vscode": {
     "languageId": "sql"
    }
   },
   "outputs": [],
   "source": [
    "SELECT DATA_TYPE from INFORMATION_SCHEMA.COLUMNS where\n",
    "    table_schema = 'yourDatabaseName' and table_name = 'yourTableName';\n"
   ]
  },
  {
   "cell_type": "markdown",
   "metadata": {},
   "source": [
    "\n",
    "To get the non-null counts of each column in SQL, use this query:\n",
    "\n",
    "**SELECT COUNT('column name') FROM 'table name'**\n",
    "\n",
    "**WHERE 'column name' IS NOT NULL;**"
   ]
  },
  {
   "cell_type": "code",
   "execution_count": null,
   "metadata": {
    "vscode": {
     "languageId": "sql"
    }
   },
   "outputs": [],
   "source": [
    "SELECT COUNT('column name') FROM 'table name'\n",
    "\n",
    "    WHERE 'column name' IS NOT NULL;"
   ]
  },
  {
   "cell_type": "markdown",
   "metadata": {},
   "source": []
  },
  {
   "cell_type": "code",
   "execution_count": 18,
   "metadata": {},
   "outputs": [
    {
     "data": {
      "text/plain": [
       "INMATEID                       int64\n",
       "ADMITTED_DT           datetime64[ns]\n",
       "DISCHARGED_DT         datetime64[ns]\n",
       "CUSTODY_LEVEL                 object\n",
       "BRADH                         object\n",
       "RACE                          object\n",
       "GENDER                        object\n",
       "AGE                            int64\n",
       "INMATE_STATUS_CODE            object\n",
       "SEALED                        object\n",
       "SRG_FLG                       object\n",
       "TOP_CHARGE                    object\n",
       "INFRACTION                    object\n",
       "dtype: object"
      ]
     },
     "execution_count": 18,
     "metadata": {},
     "output_type": "execute_result"
    }
   ],
   "source": [
    "# Convert 'ADMITTED_DT' to datetime data type\n",
    "df['ADMITTED_DT'] = pd.to_datetime(df['ADMITTED_DT'])\n",
    "\n",
    "df.dtypes\n"
   ]
  },
  {
   "cell_type": "markdown",
   "metadata": {},
   "source": []
  },
  {
   "cell_type": "code",
   "execution_count": null,
   "metadata": {
    "vscode": {
     "languageId": "sql"
    }
   },
   "outputs": [],
   "source": [
    "UPDATE mytable\n",
    "\n",
    "SET ADMITTED_DT = CAST(ADMITTED_DT AS DATETIME),\n"
   ]
  },
  {
   "cell_type": "markdown",
   "metadata": {},
   "source": []
  },
  {
   "cell_type": "code",
   "execution_count": 22,
   "metadata": {},
   "outputs": [],
   "source": [
    "conn = sqlite3.connect('crime_database.db')\n"
   ]
  },
  {
   "cell_type": "code",
   "execution_count": 23,
   "metadata": {},
   "outputs": [
    {
     "data": {
      "text/plain": [
       "6146"
      ]
     },
     "execution_count": 23,
     "metadata": {},
     "output_type": "execute_result"
    }
   ],
   "source": [
    "df.to_sql('mytable', conn, if_exists='replace', index=False)\n"
   ]
  },
  {
   "cell_type": "code",
   "execution_count": 13,
   "metadata": {},
   "outputs": [
    {
     "name": "stdout",
     "output_type": "stream",
     "text": [
      "   Total_Count\n",
      "0         6146\n"
     ]
    }
   ],
   "source": [
    "query = \"SELECT COUNT(*) as Total_Count FROM mytable \"\n",
    "result = pd.read_sql_query(query, conn)\n",
    "print(result)\n"
   ]
  },
  {
   "cell_type": "code",
   "execution_count": 14,
   "metadata": {},
   "outputs": [
    {
     "name": "stdout",
     "output_type": "stream",
     "text": [
      "           Total_Count\n",
      "0  2012-10-28 14:47:22\n"
     ]
    }
   ],
   "source": [
    "query =\"\"\"SELECT MIN(Admitted_DT) as Total_Count FROM mytable\n",
    "\"\"\"\n",
    "result = pd.read_sql_query(query, conn)\n",
    "print(result)"
   ]
  },
  {
   "cell_type": "code",
   "execution_count": 15,
   "metadata": {},
   "outputs": [
    {
     "name": "stdout",
     "output_type": "stream",
     "text": [
      "   Total_Columns\n",
      "0             13\n"
     ]
    }
   ],
   "source": [
    "import pandas as pd\n",
    "import sqlite3\n",
    "\n",
    "\n",
    "\n",
    "# Define the SQL query\n",
    "query = \"SELECT COUNT(*) as Total_Columns FROM pragma_table_info('mytable')\"\n",
    "\n",
    "# Execute the query and store the result in a DataFrame\n",
    "result = pd.read_sql_query(query, conn)\n",
    "\n",
    "# Print the result\n",
    "print(result)\n"
   ]
  },
  {
   "cell_type": "code",
   "execution_count": 16,
   "metadata": {},
   "outputs": [
    {
     "name": "stdout",
     "output_type": "stream",
     "text": [
      "    cid                name       type  notnull dflt_value  pk\n",
      "0     0            INMATEID    INTEGER        0       None   0\n",
      "1     1         ADMITTED_DT  TIMESTAMP        0       None   0\n",
      "2     2       DISCHARGED_DT  TIMESTAMP        0       None   0\n",
      "3     3       CUSTODY_LEVEL       TEXT        0       None   0\n",
      "4     4               BRADH       TEXT        0       None   0\n",
      "5     5                RACE       TEXT        0       None   0\n",
      "6     6              GENDER       TEXT        0       None   0\n",
      "7     7                 AGE    INTEGER        0       None   0\n",
      "8     8  INMATE_STATUS_CODE       TEXT        0       None   0\n",
      "9     9              SEALED       TEXT        0       None   0\n",
      "10   10             SRG_FLG       TEXT        0       None   0\n",
      "11   11          TOP_CHARGE       TEXT        0       None   0\n",
      "12   12          INFRACTION       TEXT        0       None   0\n"
     ]
    }
   ],
   "source": []
  },
  {
   "cell_type": "code",
   "execution_count": null,
   "metadata": {},
   "outputs": [],
   "source": []
  },
  {
   "cell_type": "code",
   "execution_count": null,
   "metadata": {},
   "outputs": [],
   "source": []
  },
  {
   "cell_type": "code",
   "execution_count": null,
   "metadata": {},
   "outputs": [
    {
     "name": "stdout",
     "output_type": "stream",
     "text": [
      "INMATEID               int64\n",
      "ADMITTED_DT           object\n",
      "DISCHARGED_DT         object\n",
      "CUSTODY_LEVEL         object\n",
      "BRADH                 object\n",
      "RACE                  object\n",
      "GENDER                object\n",
      "AGE                    int64\n",
      "INMATE_STATUS_CODE    object\n",
      "SEALED                object\n",
      "SRG_FLG               object\n",
      "TOP_CHARGE            object\n",
      "INFRACTION            object\n",
      "dtype: object\n"
     ]
    }
   ],
   "source": []
  },
  {
   "cell_type": "code",
   "execution_count": 24,
   "metadata": {},
   "outputs": [
    {
     "data": {
      "text/html": [
       "<div>\n",
       "<style scoped>\n",
       "    .dataframe tbody tr th:only-of-type {\n",
       "        vertical-align: middle;\n",
       "    }\n",
       "\n",
       "    .dataframe tbody tr th {\n",
       "        vertical-align: top;\n",
       "    }\n",
       "\n",
       "    .dataframe thead th {\n",
       "        text-align: right;\n",
       "    }\n",
       "</style>\n",
       "<table border=\"1\" class=\"dataframe\">\n",
       "  <thead>\n",
       "    <tr style=\"text-align: right;\">\n",
       "      <th></th>\n",
       "      <th>count(Race)</th>\n",
       "    </tr>\n",
       "  </thead>\n",
       "  <tbody>\n",
       "    <tr>\n",
       "      <th>0</th>\n",
       "      <td>6128</td>\n",
       "    </tr>\n",
       "  </tbody>\n",
       "</table>\n",
       "</div>"
      ],
      "text/plain": [
       "   count(Race)\n",
       "0         6128"
      ]
     },
     "execution_count": 24,
     "metadata": {},
     "output_type": "execute_result"
    }
   ],
   "source": [
    "q1 = \"\"\"SELECT count(Race) From df \n",
    "        Where Race is not null\"\"\"\n",
    "\n",
    "result = ps.sqldf(q1, locals())\n",
    "result"
   ]
  },
  {
   "cell_type": "code",
   "execution_count": null,
   "metadata": {
    "vscode": {
     "languageId": "sql"
    }
   },
   "outputs": [],
   "source": [
    "-- High-Level EDA\n",
    "SELECT COUNT(*) AS total_rows FROM your_table;\n",
    "SELECT column_name, COUNT(*) AS count FROM your_table GROUP BY column_name;\n",
    "SELECT column_name, COUNT(*) AS missing_values FROM your_table WHERE column_name IS NULL;\n",
    "SELECT column_name, COUNT(DISTINCT column_name) AS unique_values FROM your_table;\n",
    "\n",
    "-- Column-Specific EDA\n",
    "SELECT MIN(numeric_column) AS min_value, MAX(numeric_column) AS max_value, AVG(numeric_column) AS avg_value FROM your_table;\n",
    "SELECT category_column, COUNT(*) AS count FROM your_table GROUP BY category_column;\n",
    "SELECT date_column, COUNT(*) AS count FROM your_table WHERE date_column BETWEEN '2023-01-01' AND '2023-12-31';\n",
    "SELECT numerical_column_1, numerical_column_2, CORR(numerical_column_1, numerical_column_2) AS correlation FROM your_table;\n"
   ]
  }
 ],
 "metadata": {
  "kernelspec": {
   "display_name": "base",
   "language": "python",
   "name": "python3"
  },
  "language_info": {
   "codemirror_mode": {
    "name": "ipython",
    "version": 3
   },
   "file_extension": ".py",
   "mimetype": "text/x-python",
   "name": "python",
   "nbconvert_exporter": "python",
   "pygments_lexer": "ipython3",
   "version": "3.10.9"
  },
  "orig_nbformat": 4
 },
 "nbformat": 4,
 "nbformat_minor": 2
}
