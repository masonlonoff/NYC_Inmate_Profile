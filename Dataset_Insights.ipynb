{
 "cells": [
  {
   "cell_type": "markdown",
   "metadata": {},
   "source": [
    "# Table of Contents\n",
    "\n",
    "[Group 1: Basic Statistics and Demographics](##Group-1:-Basic-Statistics-and-Demographics)<br>\n",
    "&nbsp;&nbsp;[1) What are the Unique Combinations of Custody Level and Race Among the Inmates?](###What-are-the-Unique-Combinations-of-Custody-Level-and-Race-Among-the-Inmates)<br>\n",
    "&nbsp;&nbsp;[2) How many Inmates of Each Age Group (e.g., 18-25, 26-35, etc.) are in Custody?](###How-many-Inmates-of-Each-Age-Group-(e.g.,-18-25,-26-35,-etc.)-are-in-Custody)<br>\n",
    "&nbsp;&nbsp;[3) How many Inmates were Admitted in Each Month of the Year?](###How-many-Inmates-were-Admitted-in-Each-Month-of-the-Year?)<br>\n",
    "&nbsp;&nbsp;[4) How many Inmates were Admitted on Each Day of the Week?](###How-many-Inmates-were-Admitted-on-Each-Day-of-the-Week?)<br>\n",
    "&nbsp;&nbsp;[5) How many Inmates are there for Each Unique Combination of Gender and Race?](###How-many-Inmates-are-there-for-Each-Unique-Combination-of-Gender-and-Race)<br>\n",
    "&nbsp;&nbsp;[6) How many Inmates are there for Each Unique Combination of Custody Level and Gender?](###How-many-Inmates-are-there-for-Each-Unique-Combination-of-Custody-Level-and-Gender?)<br>\n",
    "[Group 2: Average Age Analysis](##Group-2:-Average-Age-Analysis)<br>\n",
    "&nbsp;&nbsp;[7) What is the Average Age of Inmates for Each Race?](###What-is-the-Average-Age-of-Inmates-for-Each-Race?)<br>\n",
    "&nbsp;&nbsp;[8) What is the Average Age of Inmates for Each Gender?](###What-is-the-Average-Age-of-Inmates-for-Each-Gender?)<br>\n",
    "&nbsp;&nbsp;[9) What is the Average Age of Inmates for Each Custody Level?](###What-is-the-Average-Age-of-Inmates-for-Each-Custody-Level?)<br>\n",
    "&nbsp;&nbsp;[10) What is the Average Age of Inmates with Gang Affiliation Compared to No Gang Affiliation?](###What-is-the-Average-Age-of-Inmates-with-Gang-Affiliation-Compared-to-No-Gang-Affiliation?)<br>\n",
    "&nbsp;&nbsp;[11) Average Age by Custody Level and Gang Affiliation](###Average-Age-by-Custody-Level-and-Gang-Affiliation)<br>\n",
    "&nbsp;&nbsp;[12) Average Age by Infraction Occurrence](###Average-Age-by-Infraction-Occurrence)<br>\n",
    "&nbsp;&nbsp;[13) Average Age by Mental Health](###Average-Age-by-Mental-Health)<br>\n",
    "[Group 3: Top Charge Analysis](##Group-3:-Top-Charge-Analysis)<br>\n",
    "&nbsp;&nbsp;[14) What is the Most Common Top Charge Among Inmates by Gender?](###What-is-the-Most-Common-Top-Charge-Among-Inmates-by-Gender?)<br>\n",
    "&nbsp;&nbsp;[15) Top Charge by Race](###Top-Charge-by-Race)<br>\n",
    "&nbsp;&nbsp;[16) Top Charge by Age](###Top-Charge-by-Age)<br>\n",
    "&nbsp;&nbsp;[17) Top Charge by Custody Level](###Top-Charge-by-Custody-Level)<br>\n",
    "&nbsp;&nbsp;[18) Top Charge and Gang Affiliation](###Top-Charge-and-Gang-Affiliation)<br>\n",
    "&nbsp;&nbsp;[19) Top Charge and Mental Health Status](###Top-Charge-and-Mental-Health-Status)<br>\n",
    "[Group 4: Infraction Analysis](##Group-4:-Infraction-Analysis)<br>\n",
    "&nbsp;&nbsp;[20) Infraction Occurrence for Inmates of More Than 5 Years](###Infraction-Occurrence-for-Inmates-of-More-Than-5-Years)<br>\n",
    "&nbsp;&nbsp;[21) Infraction Occurrence for Inmates of Less Than 30 Days](###Infraction-Occurrence-for-Inmates-of-Less-Than-30-Days)<br>\n",
    "&nbsp;&nbsp;[22) Infraction by Mental Health](###Infraction-by-Mental-Health)<br>\n",
    "&nbsp;&nbsp;[23) Infraction by Gang Affiliation](###Infraction-by-Gang-Affiliation)<br>\n",
    "[Group 5: Inmate Custody Duration](##Group-5:-Inmate-Custody-Duration)<br>\n",
    "&nbsp;&nbsp;[24) How Many Inmates have been in Custody for More Than a Year](###How-Many-Inmates-have-been-in-Custody-for-More-Than-a-Year?)<br>\n",
    "&nbsp;&nbsp;[24) How Many Inmates have been in Custody for More Than a Month](###How-Many-Inmates-have-been-in-Custody-for-More-Than-a-Month?)<br>\n",
    "&nbsp;&nbsp;[24) How Many Inmates have been in Custody for More Than 3 Months](###How-Many-Inmates-have-been-in-Custody-for-More-Than-3-Months?)<br>\n",
    "&nbsp;&nbsp;[24) How Many Inmates have been in Custody for More Than 6 Months](###How-Many-Inmates-have-been-in-Custody-for-More-Than-6-Months?)<br>\n",
    "&nbsp;&nbsp;[24) How Many Inmates have been in Custody for More Than 9 Months](###How-Many-Inmates-have-been-in-Custody-for-More-Than-9-Months?)<br>\n",
    "[Group 6: Miscellaneous](##Group-6:-Miscellaneous)<br>\n",
    "&nbsp;&nbsp;[25) How Many Inmates Under Mental Observation are there for Each Custody Level?](###How-Many-Inmates-Under-Mental-Observation-are-there-for-Each-Custody-Level?)<br>\n",
    "&nbsp;&nbsp;[26) What are the Top 10 Charges for the Inmates Under Mental Health Observation?](###What-are-the-Top-10-Charges-for-the-Inmates-Under-Mental-Health-Observation?)<br>\n",
    "&nbsp;&nbsp;[27) Gang Affiliations by Gender](###Gang-Affiliations-by-Gender)<br>\n",
    "&nbsp;&nbsp;[28) Inmates Under Mental Health Observation by Race](###Inmates-Under-Mental-Health-Observation-by-Race) <br>\n",
    "&nbsp;&nbsp;[29) Mental Health Status by Gang Affiliation](###Mental-Health-Status-by-Gang-Affiliation)<br>\n",
    "\n",
    "\n",
    "You won't be able to use the above hyperlinks within GitHub. If you want to have that functionality, copy the repository and run the file on your local machine. \n",
    "\n",
    "If the hyperlinks are not working correctly, reload the file and try again.\n"
   ]
  },
  {
   "cell_type": "markdown",
   "metadata": {},
   "source": [
    "**Importing** the Necessary Libraries"
   ]
  },
  {
   "cell_type": "code",
   "execution_count": 1,
   "metadata": {},
   "outputs": [],
   "source": [
    "import pandas as pd\n",
    "import sqlite3"
   ]
  },
  {
   "cell_type": "markdown",
   "metadata": {},
   "source": [
    "**Reading In** the CSV that was created in the previous file"
   ]
  },
  {
   "cell_type": "code",
   "execution_count": 9,
   "metadata": {},
   "outputs": [
    {
     "data": {
      "text/html": [
       "<div>\n",
       "<style scoped>\n",
       "    .dataframe tbody tr th:only-of-type {\n",
       "        vertical-align: middle;\n",
       "    }\n",
       "\n",
       "    .dataframe tbody tr th {\n",
       "        vertical-align: top;\n",
       "    }\n",
       "\n",
       "    .dataframe thead th {\n",
       "        text-align: right;\n",
       "    }\n",
       "</style>\n",
       "<table border=\"1\" class=\"dataframe\">\n",
       "  <thead>\n",
       "    <tr style=\"text-align: right;\">\n",
       "      <th></th>\n",
       "      <th>CUSTODY_LEVEL</th>\n",
       "      <th>BRADH</th>\n",
       "      <th>RACE</th>\n",
       "      <th>GENDER</th>\n",
       "      <th>AGE</th>\n",
       "      <th>INMATE_STATUS_CODE</th>\n",
       "      <th>SRG_FLG</th>\n",
       "      <th>TOP_CHARGE</th>\n",
       "      <th>INFRACTION</th>\n",
       "      <th>Date</th>\n",
       "      <th>Time</th>\n",
       "    </tr>\n",
       "  </thead>\n",
       "  <tbody>\n",
       "    <tr>\n",
       "      <th>0</th>\n",
       "      <td>MAX</td>\n",
       "      <td>Y</td>\n",
       "      <td>B</td>\n",
       "      <td>M</td>\n",
       "      <td>21</td>\n",
       "      <td>DE</td>\n",
       "      <td>Y</td>\n",
       "      <td>110-125.25</td>\n",
       "      <td>Y</td>\n",
       "      <td>2023-03-23</td>\n",
       "      <td>14:49:00</td>\n",
       "    </tr>\n",
       "    <tr>\n",
       "      <th>1</th>\n",
       "      <td>MED</td>\n",
       "      <td>Y</td>\n",
       "      <td>O</td>\n",
       "      <td>M</td>\n",
       "      <td>70</td>\n",
       "      <td>DE</td>\n",
       "      <td>N</td>\n",
       "      <td>130.50</td>\n",
       "      <td>N</td>\n",
       "      <td>2023-03-16</td>\n",
       "      <td>21:14:00</td>\n",
       "    </tr>\n",
       "    <tr>\n",
       "      <th>2</th>\n",
       "      <td>MED</td>\n",
       "      <td>Y</td>\n",
       "      <td>O</td>\n",
       "      <td>M</td>\n",
       "      <td>31</td>\n",
       "      <td>DE</td>\n",
       "      <td>Y</td>\n",
       "      <td>220.16</td>\n",
       "      <td>N</td>\n",
       "      <td>2023-06-11</td>\n",
       "      <td>00:38:00</td>\n",
       "    </tr>\n",
       "    <tr>\n",
       "      <th>3</th>\n",
       "      <td>NaN</td>\n",
       "      <td>Y</td>\n",
       "      <td>O</td>\n",
       "      <td>M</td>\n",
       "      <td>23</td>\n",
       "      <td>DE</td>\n",
       "      <td>N</td>\n",
       "      <td>110-125.25</td>\n",
       "      <td>Y</td>\n",
       "      <td>2023-03-02</td>\n",
       "      <td>01:57:34</td>\n",
       "    </tr>\n",
       "    <tr>\n",
       "      <th>4</th>\n",
       "      <td>MED</td>\n",
       "      <td>N</td>\n",
       "      <td>O</td>\n",
       "      <td>M</td>\n",
       "      <td>32</td>\n",
       "      <td>DE</td>\n",
       "      <td>N</td>\n",
       "      <td>110-125.25</td>\n",
       "      <td>N</td>\n",
       "      <td>2021-09-05</td>\n",
       "      <td>00:50:57</td>\n",
       "    </tr>\n",
       "  </tbody>\n",
       "</table>\n",
       "</div>"
      ],
      "text/plain": [
       "  CUSTODY_LEVEL BRADH RACE GENDER  AGE INMATE_STATUS_CODE SRG_FLG  TOP_CHARGE  \\\n",
       "0           MAX     Y    B      M   21                 DE       Y  110-125.25   \n",
       "1           MED     Y    O      M   70                 DE       N      130.50   \n",
       "2           MED     Y    O      M   31                 DE       Y      220.16   \n",
       "3           NaN     Y    O      M   23                 DE       N  110-125.25   \n",
       "4           MED     N    O      M   32                 DE       N  110-125.25   \n",
       "\n",
       "  INFRACTION        Date      Time  \n",
       "0          Y  2023-03-23  14:49:00  \n",
       "1          N  2023-03-16  21:14:00  \n",
       "2          N  2023-06-11  00:38:00  \n",
       "3          Y  2023-03-02  01:57:34  \n",
       "4          N  2021-09-05  00:50:57  "
      ]
     },
     "execution_count": 9,
     "metadata": {},
     "output_type": "execute_result"
    }
   ],
   "source": [
    "df = pd.read_csv('criminals.csv')\n",
    "df.head()"
   ]
  },
  {
   "cell_type": "markdown",
   "metadata": {},
   "source": [
    "### Establish a connection to the SQLite database file 'crime_database.db'\n",
    "\n",
    "You can create your own database file by running the code below and it'll run properly. The naming of your *.db* file can be whatever you want"
   ]
  },
  {
   "cell_type": "code",
   "execution_count": 3,
   "metadata": {},
   "outputs": [],
   "source": [
    "conn = sqlite3.connect('crime_database.db')"
   ]
  },
  {
   "cell_type": "markdown",
   "metadata": {},
   "source": [
    "### Convert the DF to a SQL Table"
   ]
  },
  {
   "cell_type": "code",
   "execution_count": 4,
   "metadata": {},
   "outputs": [
    {
     "data": {
      "text/plain": [
       "6146"
      ]
     },
     "execution_count": 4,
     "metadata": {},
     "output_type": "execute_result"
    }
   ],
   "source": [
    "df.to_sql('mytable', conn, if_exists='replace', index=False)"
   ]
  },
  {
   "cell_type": "markdown",
   "metadata": {},
   "source": [
    "## Group 1: Basic Statistics and Demographics"
   ]
  },
  {
   "cell_type": "markdown",
   "metadata": {},
   "source": [
    "### What are the Unique Combinations of Custody Level and Race Among the Inmates?"
   ]
  },
  {
   "cell_type": "code",
   "execution_count": 21,
   "metadata": {},
   "outputs": [
    {
     "name": "stdout",
     "output_type": "stream",
     "text": [
      "   CUSTODY_LEVEL RACE  Number_of_Prisoners  Percentage\n",
      "0            MED    B                 1510   24.568825\n",
      "1            MAX    B                 1226   19.947934\n",
      "2            MIN    B                  923   15.017898\n",
      "3            MED    O                  793   12.902701\n",
      "4            MIN    O                  535    8.704849\n",
      "5            MAX    O                  427    6.947608\n",
      "6            MED    W                  229    3.726001\n",
      "7            MIN    W                  191    3.107712\n",
      "8            MAX    W                   89    1.448096\n",
      "9            MED    A                   66    1.073869\n",
      "10           MIN    A                   58    0.943703\n",
      "11           MAX    A                   21    0.341686\n",
      "12           MED    I                    9    0.146437\n",
      "13           MIN    I                    7    0.113895\n",
      "14           MAX    I                    3    0.048812\n",
      "15           MAX    U                    3    0.048812\n",
      "16           MIN    U                    3    0.048812\n",
      "17           MED    U                    2    0.032541\n"
     ]
    }
   ],
   "source": [
    "query = \"\"\"SELECT DISTINCT CUSTODY_LEVEL, RACE, COUNT(*) as Number_of_Prisoners,\n",
    "            COUNT(*) * 100.0 / (SELECT COUNT(*) FROM mytable) AS Percentage\n",
    "            FROM mytable\n",
    "            WHERE CUSTODY_LEVEL != 'None' AND RACE != 'None'\n",
    "            GROUP BY CUSTODY_LEVEL, RACE\n",
    "            ORDER BY COUNT(*) DESC;\"\"\"\n",
    "result = pd.read_sql_query(query, conn)\n",
    "\n",
    "print(result)"
   ]
  },
  {
   "cell_type": "markdown",
   "metadata": {},
   "source": [
    "The number of prisoners by custody level and race just ends up being ordered by their race. For all races except the **Unknown** category, most people were incarcerated in **Medium** level security prisons."
   ]
  },
  {
   "cell_type": "markdown",
   "metadata": {},
   "source": [
    "### How many Inmates of Each Age Group (e.g., 18-25, 26-35, etc.) are in Custody?"
   ]
  },
  {
   "cell_type": "code",
   "execution_count": 23,
   "metadata": {},
   "outputs": [
    {
     "name": "stdout",
     "output_type": "stream",
     "text": [
      "      Age_Group  Number_of_Inmates  Percentage\n",
      "0         18-25               1329   21.623820\n",
      "1         26-35               2140   34.819395\n",
      "2         36-45               1456   23.690205\n",
      "3         46-55                738   12.007810\n",
      "4         56-65                408    6.638464\n",
      "5  66 and above                 75    1.220306\n"
     ]
    }
   ],
   "source": [
    "query = \"\"\"SELECT CASE\n",
    "                WHEN AGE BETWEEN 18 and 25 THEN '18-25'\n",
    "                WHEN AGE BETWEEN 26 and 35 THEN '26-35'\n",
    "                WHEN AGE BETWEEN 36 and 45 THEN '36-45'\n",
    "                WHEN AGE BETWEEN 46 and 55 THEN '46-55'\n",
    "                WHEN AGE BETWEEN 56 and 65 THEN '56-65'\n",
    "                ELSE '66 and above'\n",
    "                END as Age_Group,\n",
    "                COUNT(*) AS Number_of_Inmates,\n",
    "                COUNT(*) * 100.0 / (SELECT COUNT(*) FROM mytable) AS Percentage\n",
    "                FROM mytable\n",
    "                GROUP BY Age_GROUP;\n",
    "        \"\"\"\n",
    "        \n",
    "result = pd.read_sql_query(query, conn)\n",
    "print(result)"
   ]
  },
  {
   "cell_type": "markdown",
   "metadata": {},
   "source": [
    "The **26-35** age range has the most number of inmates. Roughly and equal amount of inmates are in the surrounding age ranges of 18-25 and 36-45. "
   ]
  },
  {
   "cell_type": "markdown",
   "metadata": {},
   "source": [
    "### How many Inmates were Admitted in Each Month of the Year?"
   ]
  },
  {
   "cell_type": "code",
   "execution_count": 25,
   "metadata": {},
   "outputs": [
    {
     "name": "stdout",
     "output_type": "stream",
     "text": [
      "   Month_Number  Charge_Count  Percentage\n",
      "0            06           987   16.059226\n",
      "1            07           981   15.961601\n",
      "2            05           811   13.195574\n",
      "3            04           613    9.973967\n",
      "4            03           554    9.013993\n",
      "5            01           436    7.094045\n",
      "6            02           396    6.443215\n",
      "7            12           324    5.271721\n",
      "8            11           284    4.620892\n",
      "9            10           271    4.409372\n",
      "10           09           254    4.132769\n",
      "11           08           235    3.823625\n"
     ]
    }
   ],
   "source": [
    "query =\"\"\"SELECT strftime('%m', Date)  as Month_Number, \n",
    "           COUNT(*) AS Charge_Count,\n",
    "           COUNT(*) * 100.0 / (SELECT COUNT(*) FROM mytable) AS Percentage\n",
    "           FROM mytable\n",
    "           GROUP BY Month_Number\n",
    "           ORDER BY COUNT(*) DESC;\n",
    "        \"\"\"\n",
    "        \n",
    "result = pd.read_sql_query(query, conn)\n",
    "print(result)"
   ]
  },
  {
   "cell_type": "markdown",
   "metadata": {},
   "source": [
    "The late-beginning and middle of the year have the most amount of admitted inmates. It's surprising to see that June and July have the highest number of inmates when August and September then have the lowest number of inmates. There's almost a 4x difference between the number of inmates in June and July compared to August and September. "
   ]
  },
  {
   "cell_type": "markdown",
   "metadata": {},
   "source": [
    "SQLite does not have built in functionality for the *MONTH()* function. I will show the normal SQL code I would have used below:"
   ]
  },
  {
   "cell_type": "code",
   "execution_count": null,
   "metadata": {
    "vscode": {
     "languageId": "sql"
    }
   },
   "outputs": [],
   "source": [
    "SELECT COUNT(*), MONTH(Date) as Month_Number \n",
    "    FROM mytable\n",
    "    GROUP BY Month_Number;"
   ]
  },
  {
   "cell_type": "markdown",
   "metadata": {},
   "source": [
    "### How many Inmates were Admitted on Each Day of the Week?"
   ]
  },
  {
   "cell_type": "code",
   "execution_count": 26,
   "metadata": {},
   "outputs": [
    {
     "name": "stdout",
     "output_type": "stream",
     "text": [
      "  Day_of_Week_Number  Number_of_Inmates  Percentage\n",
      "0           Thursday               1176   19.134396\n",
      "1          Wednesday               1096   17.832737\n",
      "2             Friday               1060   17.246990\n",
      "3            Tuesday                876   14.253173\n",
      "4           Saturday                693   11.275626\n",
      "5             Monday                664   10.803775\n",
      "6             Sunday                581    9.453303\n"
     ]
    }
   ],
   "source": [
    "query = \"\"\"SELECT CASE strftime('%w', Date) \n",
    "            WHEN '0' THEN 'Sunday'\n",
    "            WHEN '1' THEN 'Monday'\n",
    "            WHEN '2' THEN 'Tuesday'\n",
    "            WHEN '3' THEN 'Wednesday'\n",
    "            WHEN '4' THEN 'Thursday'\n",
    "            WHEN '5' THEN 'Friday'\n",
    "            WHEN '6' THEN 'Saturday'\n",
    "            END AS Day_of_Week_Number, \n",
    "            COUNT(*) AS Number_of_Inmates,\n",
    "            COUNT(*) * 100.0 / (SELECT COUNT(*) FROM mytable) AS Percentage\n",
    "            FROM mytable\n",
    "            GROUP BY Day_of_Week_Number\n",
    "            ORDER BY COUNT(*) DESC;\n",
    "            \"\"\"\n",
    "        \n",
    "result = pd.read_sql_query(query, conn)\n",
    "print(result)"
   ]
  },
  {
   "cell_type": "markdown",
   "metadata": {},
   "source": [
    "Most of the inmates were brought in during the latter half of the workweek. I find it intriguing how the weekend has much lower numbers of arrests."
   ]
  },
  {
   "cell_type": "markdown",
   "metadata": {},
   "source": [
    "### How many Inmates are there for Each Unique Combination of Gender and Race?"
   ]
  },
  {
   "cell_type": "code",
   "execution_count": 28,
   "metadata": {},
   "outputs": [
    {
     "name": "stdout",
     "output_type": "stream",
     "text": [
      "   GENDER RACE  Number_of_Prisoners  Percentage\n",
      "0       M    B                 3458   56.264237\n",
      "1       M    O                 1679   27.318581\n",
      "2       M    W                  455    7.403189\n",
      "3       F    B                  220    3.579564\n",
      "4       M    A                  130    2.115197\n",
      "5       F    O                   84    1.366743\n",
      "6       F    W                   58    0.943703\n",
      "7       M    I                   17    0.276603\n",
      "8       F    A                   16    0.260332\n",
      "9       M    U                    7    0.113895\n",
      "10      F    I                    2    0.032541\n",
      "11      F    U                    2    0.032541\n"
     ]
    }
   ],
   "source": [
    "query = \"\"\"SELECT DISTINCT GENDER, RACE, COUNT(*) as Number_of_Prisoners,\n",
    "            COUNT(*) * 100.0 / (SELECT COUNT(*) FROM mytable) AS Percentage\n",
    "            FROM mytable\n",
    "            WHERE GENDER != 'None' AND RACE != 'None'\n",
    "            GROUP BY GENDER, RACE\n",
    "            ORDER BY COUNT(*) DESC;\"\"\"\n",
    "result = pd.read_sql_query(query, conn)\n",
    "\n",
    "print(result)"
   ]
  },
  {
   "cell_type": "markdown",
   "metadata": {},
   "source": [
    "These results are not that surprising when you consider how the majority of the inmates in this dataset are Male and Black. Still though, over 56% of the dataset being black males is extremely high. For every race, the Males exceed the number of Females. "
   ]
  },
  {
   "cell_type": "markdown",
   "metadata": {},
   "source": [
    "### How many Inmates are there for Each Unique Combination of Custody Level and Gender?"
   ]
  },
  {
   "cell_type": "code",
   "execution_count": 30,
   "metadata": {},
   "outputs": [
    {
     "name": "stdout",
     "output_type": "stream",
     "text": [
      "  GENDER CUSTODY_LEVEL  Number_of_Prisoners  Percentage\n",
      "0      M           MED                 2461   40.042304\n",
      "1      M           MAX                 1651   26.863000\n",
      "2      M           MIN                 1612   26.228441\n",
      "3      F           MED                  148    2.408070\n",
      "4      F           MAX                  118    1.919948\n",
      "5      F           MIN                  105    1.708428\n"
     ]
    }
   ],
   "source": [
    "query = \"\"\"SELECT DISTINCT GENDER, CUSTODY_LEVEL, COUNT(*) as Number_of_Prisoners,\n",
    "            COUNT(*) * 100.0 / (SELECT COUNT(*) FROM mytable) AS Percentage\n",
    "            FROM mytable\n",
    "            WHERE GENDER != 'None' AND CUSTODY_LEVEL != 'None'\n",
    "            GROUP BY GENDER, CUSTODY_LEVEL\n",
    "            ORDER BY COUNT(*) DESC;\"\"\"\n",
    "result = pd.read_sql_query(query, conn)\n",
    "\n",
    "print(result)"
   ]
  },
  {
   "cell_type": "markdown",
   "metadata": {},
   "source": [
    "Both Genders follow the same pattern. One thing of note is that as a percentage, more women than men are in maximum security."
   ]
  },
  {
   "cell_type": "markdown",
   "metadata": {},
   "source": [
    "## Group 2: Average Age Analysis"
   ]
  },
  {
   "cell_type": "markdown",
   "metadata": {},
   "source": [
    "### What is the Average Age of Inmates for Each Race?"
   ]
  },
  {
   "cell_type": "code",
   "execution_count": 32,
   "metadata": {},
   "outputs": [
    {
     "name": "stdout",
     "output_type": "stream",
     "text": [
      "   Average_Age RACE\n",
      "0        39.36    W\n",
      "1        36.42    A\n",
      "2        35.95    I\n",
      "3        35.55    O\n",
      "4        35.27    B\n",
      "5        33.78    U\n"
     ]
    }
   ],
   "source": [
    "query = \"\"\"SELECT ROUND(AVG(AGE),2) AS Average_Age, RACE\n",
    "            FROM mytable\n",
    "            WHERE RACE != 'None'\n",
    "            GROUP BY RACE\n",
    "            ORDER BY Average_Age DESC;\n",
    "        \"\"\"\n",
    "        \n",
    "result = pd.read_sql_query(query, conn)\n",
    "print(result)"
   ]
  },
  {
   "cell_type": "markdown",
   "metadata": {},
   "source": [
    "Among the known races, White inmates are the oldest on average by about 3 years. Besides the 8 inmates who fall under the **Unknown** category, the Black inmates have the lowest average age."
   ]
  },
  {
   "cell_type": "markdown",
   "metadata": {},
   "source": [
    "### What is the Average Age of Inmates for Each Gender?"
   ]
  },
  {
   "cell_type": "code",
   "execution_count": 76,
   "metadata": {},
   "outputs": [
    {
     "name": "stdout",
     "output_type": "stream",
     "text": [
      "   Average_Age GENDER\n",
      "0        35.73      F\n",
      "1        35.72      M\n"
     ]
    }
   ],
   "source": [
    "query = \"\"\"SELECT ROUND(AVG(AGE),2) AS Average_Age, GENDER\n",
    "            FROM mytable\n",
    "            WHERE GENDER != 'None'\n",
    "            GROUP BY GENDER\n",
    "            ORDER BY Average_Age DESC;\n",
    "        \"\"\"\n",
    "        \n",
    "result = pd.read_sql_query(query, conn)\n",
    "print(result)"
   ]
  },
  {
   "cell_type": "markdown",
   "metadata": {},
   "source": [
    "The average age for men and women in this dataset is virtually the same thing"
   ]
  },
  {
   "cell_type": "markdown",
   "metadata": {},
   "source": [
    "### What is the Average Age of Inmates for Each Custody Level?"
   ]
  },
  {
   "cell_type": "code",
   "execution_count": 8,
   "metadata": {},
   "outputs": [
    {
     "name": "stdout",
     "output_type": "stream",
     "text": [
      "   Average_Age CUSTODY_LEVEL\n",
      "0        30.38           MAX\n",
      "1        35.59           MED\n",
      "2        41.42           MIN\n"
     ]
    }
   ],
   "source": [
    "query = \"\"\"SELECT ROUND(AVG(AGE), 2) as Average_Age, CUSTODY_LEVEL\n",
    "            FROM mytable\n",
    "            WHERE CUSTODY_LEVEL != 'None'\n",
    "            GROUP BY CUSTODY_LEVEL;\n",
    "        \"\"\"\n",
    "        \n",
    "result = pd.read_sql_query(query, conn)\n",
    "print(result)"
   ]
  },
  {
   "cell_type": "markdown",
   "metadata": {},
   "source": [
    "The average ages of the inmates decreases as the security level increases. Specifically, the minimum security facilities have an average age of 11 years older than maximum security facilities."
   ]
  },
  {
   "cell_type": "markdown",
   "metadata": {},
   "source": [
    "###  What is the Average Age of Inmates with Gang Affiliation Compared to No Gang Affiliation?"
   ]
  },
  {
   "cell_type": "code",
   "execution_count": 5,
   "metadata": {},
   "outputs": [
    {
     "name": "stdout",
     "output_type": "stream",
     "text": [
      "   Average_Age SRG_FLG\n",
      "0        37.72       N\n",
      "1        28.02       Y\n"
     ]
    }
   ],
   "source": [
    "query = \"\"\"SELECT ROUND(AVG(AGE), 2) as Average_Age, SRG_FLG\n",
    "            FROM mytable\n",
    "            GROUP BY SRG_FLG;\n",
    "        \"\"\"\n",
    "        \n",
    "result = pd.read_sql_query(query, conn)\n",
    "print(result)"
   ]
  },
  {
   "cell_type": "markdown",
   "metadata": {},
   "source": [
    "Inmates that have a certified gang affiliation are nearly 10 years younger than non-gang members."
   ]
  },
  {
   "cell_type": "markdown",
   "metadata": {},
   "source": [
    "### Average Age by Custody Level and Gang Affiliation"
   ]
  },
  {
   "cell_type": "code",
   "execution_count": 10,
   "metadata": {},
   "outputs": [
    {
     "name": "stdout",
     "output_type": "stream",
     "text": [
      "  CUSTODY_LEVEL SRG_FLG  COUNT  Average_Age\n",
      "0           MAX       Y    853        27.81\n",
      "1           MED       Y    353        28.24\n",
      "2           MIN       Y     52        29.75\n",
      "3           MAX       N    920        32.76\n",
      "4           MED       N   2261        36.73\n",
      "5           MIN       N   1674        41.78\n"
     ]
    }
   ],
   "source": [
    "query = \"\"\"SELECT CUSTODY_LEVEL, SRG_FLG, COUNT(*) AS COUNT, ROUND(AVG(AGE), 2) as Average_Age\n",
    "            FROM mytable\n",
    "            WHERE CUSTODY_LEVEL != 'None'\n",
    "            GROUP BY SRG_FLG, CUSTODY_LEVEL\n",
    "            ORDER BY Average_Age;\n",
    "        \"\"\"\n",
    "        \n",
    "result = pd.read_sql_query(query, conn)\n",
    "print(result)"
   ]
  },
  {
   "cell_type": "markdown",
   "metadata": {},
   "source": [
    "For both the gang affiliated inmates and the non-gang affiliated inmates, the youngest inmates are in the maximum security facilities. Another interesting insight from this query is that among gang members, a majority are in maximum security prisons. However, among the non-affiliated inmates, a minority of the inmates are in maximum security institutions. The age distribution for gang affiliated inmates is also more tightly compacted than for the non-affiliated inmates."
   ]
  },
  {
   "cell_type": "markdown",
   "metadata": {},
   "source": [
    "### Average Age by Infraction Occurrence"
   ]
  },
  {
   "cell_type": "code",
   "execution_count": 11,
   "metadata": {},
   "outputs": [
    {
     "name": "stdout",
     "output_type": "stream",
     "text": [
      "   AVERAGE_AGE INFRACTION\n",
      "0        37.74          N\n",
      "1        31.34          Y\n"
     ]
    }
   ],
   "source": [
    "query = \"\"\"SELECT ROUND(AVG(AGE), 2) AS AVERAGE_AGE, INFRACTION\n",
    "            FROM mytable\n",
    "            GROUP BY INFRACTION\n",
    "            ;\n",
    "        \"\"\"\n",
    "        \n",
    "result = pd.read_sql_query(query, conn)\n",
    "print(result)"
   ]
  },
  {
   "cell_type": "markdown",
   "metadata": {},
   "source": [
    "On average, the prisoners who committed an infraction are 6 years younger than those who haven't carried out an infraction."
   ]
  },
  {
   "cell_type": "markdown",
   "metadata": {},
   "source": [
    "### Average Age by Mental Health "
   ]
  },
  {
   "cell_type": "code",
   "execution_count": 12,
   "metadata": {},
   "outputs": [
    {
     "name": "stdout",
     "output_type": "stream",
     "text": [
      "   Average_Age BRADH\n",
      "0        35.53     N\n",
      "1        35.91     Y\n"
     ]
    }
   ],
   "source": [
    "query = \"\"\"SELECT ROUND(AVG(AGE), 2) AS Average_Age, BRADH\n",
    "            FROM mytable\n",
    "            WHERE BRADH IS NOT NULL\n",
    "            GROUP BY BRADH\n",
    "        \"\"\"\n",
    "\n",
    "result = pd.read_sql_query(query, conn)\n",
    "print(result)"
   ]
  },
  {
   "cell_type": "markdown",
   "metadata": {},
   "source": [
    "There's not much of a difference between the average ages of inmates who are under mental health observations and those who aren't."
   ]
  },
  {
   "cell_type": "markdown",
   "metadata": {},
   "source": [
    "## Group 3: Top Charge Analysis "
   ]
  },
  {
   "cell_type": "markdown",
   "metadata": {},
   "source": [
    "### What is the Most Common Top Charge Among Inmates by Gender?"
   ]
  },
  {
   "cell_type": "code",
   "execution_count": 80,
   "metadata": {},
   "outputs": [
    {
     "name": "stdout",
     "output_type": "stream",
     "text": [
      "  GENDER TOP_CHARGE  Charge_Count\n",
      "0      M     125.25           839\n",
      "1      F     125.25            51\n"
     ]
    }
   ],
   "source": [
    "query = \"\"\"SELECT GENDER, TOP_CHARGE, Charge_Count\n",
    "            FROM (\n",
    "                SELECT GENDER, TOP_CHARGE, COUNT(*) AS Charge_Count, \n",
    "                ROW_NUMBER() OVER (PARTITION BY GENDER ORDER BY COUNT(*) DESC) AS Rank\n",
    "                FROM mytable\n",
    "                WHERE GENDER IS NOT NULL\n",
    "                GROUP BY GENDER, TOP_CHARGE\n",
    "            ) \n",
    "            WHERE Rank = 1\n",
    "            ORDER BY Charge_Count DESC, GENDER\n",
    "        \"\"\"\n",
    "        \n",
    "result = pd.read_sql_query(query, conn)\n",
    "print(result)"
   ]
  },
  {
   "cell_type": "markdown",
   "metadata": {},
   "source": [
    "Here's a breakdown of the definition of each top charge according to [NYSenate.gov](https://www.nysenate.gov/legislation/laws/search/):\n",
    "- 125.25 - Second Degree Murder"
   ]
  },
  {
   "cell_type": "markdown",
   "metadata": {},
   "source": [
    "Second Degree Murder is the most common charge among both genders."
   ]
  },
  {
   "cell_type": "markdown",
   "metadata": {},
   "source": [
    "### Top Charge by Race"
   ]
  },
  {
   "cell_type": "code",
   "execution_count": 61,
   "metadata": {},
   "outputs": [
    {
     "name": "stdout",
     "output_type": "stream",
     "text": [
      "  RACE TOP_CHARGE  Charge_Count\n",
      "0    B     125.25           580\n",
      "1    O     125.25           235\n",
      "2    W     125.25            50\n",
      "3    A     125.25            23\n",
      "4    I     215.51             2\n",
      "5    U     160.15             2\n"
     ]
    }
   ],
   "source": [
    "query = \"\"\"SELECT RACE, TOP_CHARGE, Charge_Count\n",
    "            FROM (\n",
    "                SELECT RACE, TOP_CHARGE, COUNT(*) AS Charge_Count, \n",
    "                ROW_NUMBER() OVER (PARTITION BY RACE ORDER BY COUNT(*) DESC) AS Rank\n",
    "                FROM mytable\n",
    "                WHERE RACE IS NOT NULL\n",
    "                GROUP BY RACE, TOP_CHARGE\n",
    "            ) \n",
    "            WHERE Rank = 1\n",
    "            ORDER BY Charge_Count DESC, RACE \n",
    "        \"\"\"\n",
    "        \n",
    "result = pd.read_sql_query(query, conn)\n",
    "print(result)"
   ]
  },
  {
   "cell_type": "markdown",
   "metadata": {},
   "source": [
    "Here's the breakdown of the above [charges](https://www.nysenate.gov/legislation/laws/search/):\n",
    "* 125.25 - Second Degree Murder\n",
    "* 215.51 - First Degree Criminal Contempt\n",
    "* 160.15 - First Degree Robbert\n",
    "\n",
    "2nd Degree Murder is the most prominent crime for 4 out of 6 of the race categories."
   ]
  },
  {
   "cell_type": "markdown",
   "metadata": {},
   "source": [
    "### Top Charge by Age "
   ]
  },
  {
   "cell_type": "code",
   "execution_count": 37,
   "metadata": {},
   "outputs": [
    {
     "name": "stdout",
     "output_type": "stream",
     "text": [
      "      Age_Group TOP_CHARGE  Number_of_Inmates\n",
      "0         18-25     125.25                251\n",
      "1         26-35     125.25                340\n",
      "2         36-45     125.25                166\n",
      "3         46-55     125.25                 86\n",
      "4         56-65     140.20                 34\n",
      "5  66 and above     125.25                 17\n"
     ]
    }
   ],
   "source": [
    "query = \"\"\"SELECT Age_Group, TOP_CHARGE, Charge_Count\n",
    "FROM (\n",
    "    SELECT Age_Group, TOP_CHARGE, Charge_Count,\n",
    "           ROW_NUMBER() OVER (PARTITION BY Age_Group ORDER BY Charge_Count DESC) AS Rank\n",
    "    FROM (\n",
    "        SELECT CASE\n",
    "                   WHEN AGE BETWEEN 18 and 25 THEN '18-25'\n",
    "                   WHEN AGE BETWEEN 26 and 35 THEN '26-35'\n",
    "                   WHEN AGE BETWEEN 36 and 45 THEN '36-45'\n",
    "                   WHEN AGE BETWEEN 46 and 55 THEN '46-55'\n",
    "                   WHEN AGE BETWEEN 56 and 65 THEN '56-65'\n",
    "                   ELSE '66 and above'\n",
    "               END as Age_Group,\n",
    "               TOP_CHARGE,\n",
    "               COUNT(*) AS Charge_Count\n",
    "        FROM mytable\n",
    "        GROUP BY Age_Group, TOP_CHARGE\n",
    "    )\n",
    ")\n",
    "WHERE Rank = 1\n",
    "ORDER BY Age_Group, Charge_Count DESC;\n",
    "\n",
    "\"\"\"\n",
    "\n",
    "result = pd.read_sql_query(query, conn)\n",
    "print(result)\n"
   ]
  },
  {
   "cell_type": "markdown",
   "metadata": {},
   "source": [
    "Here's a breakdown of the [charges](https://www.nysenate.gov/legislation/laws/search/):\n",
    "\n",
    "* 125.25 - Second Degree Murder\n",
    "* 140.20 - Third Degree Burglary\n",
    "\n",
    "Again, Second Degree Murder is the most prominent crime among the different groups. "
   ]
  },
  {
   "cell_type": "markdown",
   "metadata": {},
   "source": [
    "### Top Charge by Custody Level"
   ]
  },
  {
   "cell_type": "code",
   "execution_count": 63,
   "metadata": {},
   "outputs": [
    {
     "name": "stdout",
     "output_type": "stream",
     "text": [
      "  CUSTODY_LEVEL TOP_CHARGE  Charge_Count\n",
      "0           MAX     125.25           383\n",
      "1           MED     125.25           503\n",
      "2           MIN     120.05           155\n"
     ]
    }
   ],
   "source": [
    "query = \"\"\"SELECT CUSTODY_LEVEL, TOP_CHARGE, Charge_Count\n",
    "            FROM (\n",
    "                SELECT CUSTODY_LEVEL, TOP_CHARGE, COUNT(*) AS Charge_Count,\n",
    "                    RANK() OVER (PARTITION BY CUSTODY_LEVEL ORDER BY COUNT(*) DESC) AS Rank\n",
    "                FROM mytable \n",
    "                WHERE CUSTODY_LEVEL IS NOT NULL\n",
    "                GROUP BY CUSTODY_LEVEL, TOP_CHARGE\n",
    "            ) ranked\n",
    "            WHERE Rank = 1\n",
    "            ORDER BY CUSTODY_LEVEL, Charge_Count DESC;\n",
    "            \"\"\"\n",
    "\n",
    "result = pd.read_sql_query(query, conn)\n",
    "print(result)"
   ]
  },
  {
   "cell_type": "markdown",
   "metadata": {},
   "source": [
    "Here's a breakdown of the [charges](https://www.nysenate.gov/legislation/laws/search/):\n",
    "* 125.25 - Second Degree Murder\n",
    "* 120.05 - Second Degree Assault\n",
    "\n",
    "Again, Second Degree Murder is the most prominent crime among the different groups. "
   ]
  },
  {
   "cell_type": "markdown",
   "metadata": {},
   "source": [
    "### Top Charge and Gang Affiliation"
   ]
  },
  {
   "cell_type": "code",
   "execution_count": 66,
   "metadata": {},
   "outputs": [
    {
     "name": "stdout",
     "output_type": "stream",
     "text": [
      "  SRG_FLG TOP_CHARGE  Charge_Count\n",
      "0       N     125.25           591\n",
      "1       Y     125.25           299\n"
     ]
    }
   ],
   "source": [
    "query = \"\"\"SELECT SRG_FLG, TOP_CHARGE, Charge_Count\n",
    "            FROM (\n",
    "                SELECT SRG_FLG, TOP_CHARGE, COUNT(*) AS Charge_Count,\n",
    "                    RANK() OVER (PARTITION BY SRG_FLG ORDER BY COUNT(*) DESC) AS Rank\n",
    "                FROM mytable \n",
    "                GROUP BY SRG_FLG, TOP_CHARGE\n",
    "            ) ranked\n",
    "            WHERE Rank = 1\n",
    "            ORDER BY SRG_FLG, Charge_Count DESC;\n",
    "            \"\"\"\n",
    "\n",
    "result = pd.read_sql_query(query, conn)\n",
    "print(result)"
   ]
  },
  {
   "cell_type": "markdown",
   "metadata": {},
   "source": [
    "The top charge for both gang affiliated and non-gang affiliated inmates is Second Degree Murder"
   ]
  },
  {
   "cell_type": "markdown",
   "metadata": {},
   "source": [
    "### Top Charge and Mental Health Status "
   ]
  },
  {
   "cell_type": "code",
   "execution_count": 67,
   "metadata": {},
   "outputs": [
    {
     "name": "stdout",
     "output_type": "stream",
     "text": [
      "  BRADH TOP_CHARGE  Charge_Count\n",
      "0     N     125.25           351\n",
      "1     Y     125.25           539\n"
     ]
    }
   ],
   "source": [
    "query = \"\"\"SELECT SRG_FLG, TOP_CHARGE, Charge_Count\n",
    "            FROM (\n",
    "                SELECT SRG_FLG, TOP_CHARGE, COUNT(*) AS Charge_Count,\n",
    "                    RANK() OVER (PARTITION BY SRG_FLG ORDER BY COUNT(*) DESC) AS Rank\n",
    "                FROM mytable \n",
    "                GROUP BY SRG_FLG, TOP_CHARGE\n",
    "            ) ranked\n",
    "            WHERE Rank = 1\n",
    "            ORDER BY SRG_FLG, Charge_Count DESC;\n",
    "            \"\"\"\n",
    "\n",
    "result = pd.read_sql_query(query, conn)\n",
    "print(result)"
   ]
  },
  {
   "cell_type": "markdown",
   "metadata": {},
   "source": [
    "Once, again, Second Degree Murder is the top charge for inmates under mental health observation and those who aren't."
   ]
  },
  {
   "cell_type": "markdown",
   "metadata": {},
   "source": [
    "## Group 4: Infraction Analysis"
   ]
  },
  {
   "cell_type": "markdown",
   "metadata": {},
   "source": [
    "### Infraction Occurrence for Inmates of More Than 5 Years"
   ]
  },
  {
   "cell_type": "code",
   "execution_count": 7,
   "metadata": {},
   "outputs": [
    {
     "name": "stdout",
     "output_type": "stream",
     "text": [
      "  INFRACTION  Inmates_More_Than_5_Years\n",
      "0          Y                         28\n",
      "   Number_of_Prisoners\n",
      "0                   28\n"
     ]
    }
   ],
   "source": [
    "query = \"\"\"SELECT DISTINCT INFRACTION, COUNT(*) AS Inmates_More_Than_5_Years\n",
    "            FROM mytable\n",
    "            WHERE julianday('now') - julianday(Date) > 1825\n",
    "            GROUP BY INFRACTION\n",
    "            ;\n",
    "        \"\"\"\n",
    "        \n",
    "result = pd.read_sql_query(query, conn)\n",
    "print(result)\n",
    "\n",
    "query = \"\"\"SELECT COUNT(*) as Number_of_Prisoners \n",
    "            FROM mytable\n",
    "            WHERE julianday('now') - julianday(Date) > 1825\n",
    "            GROUP BY INFRACTION\n",
    "            ;\n",
    "        \"\"\"\n",
    "        \n",
    "result = pd.read_sql_query(query, conn)\n",
    "print(result)"
   ]
  },
  {
   "cell_type": "markdown",
   "metadata": {},
   "source": [
    "Every inmate of longer than 5 years has committed and infraction. The second query is there to confirm that the 28 queried inmates from above was the entire inmates population of > 5 years."
   ]
  },
  {
   "cell_type": "markdown",
   "metadata": {},
   "source": [
    "### Infraction Occurrence for Inmates of Less Than 30 Days"
   ]
  },
  {
   "cell_type": "code",
   "execution_count": 5,
   "metadata": {},
   "outputs": [
    {
     "name": "stdout",
     "output_type": "stream",
     "text": [
      "  INFRACTION  COUNT(*)\n",
      "0          N       661\n"
     ]
    }
   ],
   "source": [
    "query = \"\"\"SELECT DISTINCT INFRACTION, COUNT(*)\n",
    "            FROM mytable\n",
    "            WHERE julianday('now') - julianday(Date) < 30\n",
    "            GROUP BY INFRACTION\n",
    "            ;\n",
    "        \"\"\"\n",
    "        \n",
    "result = pd.read_sql_query(query, conn)\n",
    "print(result)"
   ]
  },
  {
   "cell_type": "markdown",
   "metadata": {},
   "source": [
    "Zero of the inmates who were admitted in the past 30 days have committed an infraction. It's important to note that the code above is dynamic in the sense that the *COUNT(*) will change based on the day you run the code. The number above is as of August 3rd, 2023."
   ]
  },
  {
   "cell_type": "markdown",
   "metadata": {},
   "source": [
    "### Infraction by Mental Health"
   ]
  },
  {
   "cell_type": "code",
   "execution_count": 7,
   "metadata": {},
   "outputs": [
    {
     "name": "stdout",
     "output_type": "stream",
     "text": [
      "  INFRACTION BRADH  Charge_Count\n",
      "0          N     N          2287\n",
      "1          N     Y          1930\n",
      "2          Y     Y          1303\n",
      "3          Y     N           626\n",
      "\n",
      "\n",
      "No Infraction and Mental Health Percentage 45.76713303296182\n",
      "Infraction and Mental Health Percentage 67.54795230689477\n"
     ]
    }
   ],
   "source": [
    "query = \"\"\"SELECT INFRACTION, BRADH, COUNT(*) AS Charge_Count\n",
    "            FROM mytable\n",
    "            GROUP BY INFRACTION, BRADH\n",
    "            ORDER BY Charge_Count DESC;\n",
    "        \"\"\"\n",
    "\n",
    "result = pd.read_sql_query(query, conn) \n",
    "print(result)\n",
    "\n",
    "infraction_mental_obs = (1303/(1303+626)) * 100\n",
    "non_infraction_mental_obs = (1930/(1930+2287)) * 100\n",
    "\n",
    "print('\\n')\n",
    "print('No Infraction and Mental Health Percentage',non_infraction_mental_obs)\n",
    "print('Infraction and Mental Health Percentage',infraction_mental_obs)"
   ]
  },
  {
   "cell_type": "markdown",
   "metadata": {},
   "source": [
    "About 68% of inmates who committed an infraction are under mental health observations compared to 46% of inmates who didn't commit any infractions. It's possible that part of the repercussions of committing an infraction could be to be placed under mental health observation. We have no way of knowing what the exact infraction was, so it may be perfectly suitable for an inmate to need extra observation depending on the infraction. "
   ]
  },
  {
   "cell_type": "markdown",
   "metadata": {},
   "source": [
    "### Infraction by Gang Affiliation"
   ]
  },
  {
   "cell_type": "code",
   "execution_count": 8,
   "metadata": {},
   "outputs": [
    {
     "name": "stdout",
     "output_type": "stream",
     "text": [
      "  INFRACTION SRG_FLG  Charge_Count\n",
      "0          N       N          3748\n",
      "1          Y       N          1138\n",
      "2          Y       Y           791\n",
      "3          N       Y           469\n",
      "\n",
      "\n",
      "Infraction and Gang Affiliated 62.77777777777778\n",
      "Infraction and Non-Gang Affiliated 23.29103561195252\n"
     ]
    }
   ],
   "source": [
    "query = \"\"\"SELECT INFRACTION, SRG_FLG, COUNT(*) AS Charge_Count\n",
    "            FROM mytable\n",
    "            GROUP BY INFRACTION, SRG_FLG\n",
    "            ORDER BY Charge_Count DESC;\n",
    "        \"\"\"\n",
    "\n",
    "result = pd.read_sql_query(query, conn) \n",
    "print(result)\n",
    "\n",
    "infraction_gang = (791/(791+469)) * 100\n",
    "infraction_non_gang = (1138/(1138+3748)) * 100\n",
    "\n",
    "print('\\n')\n",
    "print('Infraction and Gang Affiliated',infraction_gang)\n",
    "print('Infraction and Non-Gang Affiliated',infraction_non_gang)"
   ]
  },
  {
   "cell_type": "markdown",
   "metadata": {},
   "source": [
    "There is a large difference in the propensity of gang affiliated members to commit an infraction compared to non-gang affiliated inmates. "
   ]
  },
  {
   "cell_type": "markdown",
   "metadata": {},
   "source": [
    "## Group 5: Inmate Custody Duration"
   ]
  },
  {
   "cell_type": "markdown",
   "metadata": {},
   "source": [
    "### How Many Inmates have been in Custody for More Than a Year?"
   ]
  },
  {
   "cell_type": "code",
   "execution_count": 38,
   "metadata": {},
   "outputs": [
    {
     "name": "stdout",
     "output_type": "stream",
     "text": [
      "   Num_Inmates_More_1_Year\n",
      "0                     1355\n"
     ]
    }
   ],
   "source": [
    "query = \"\"\"SELECT COUNT(*) AS Num_Inmates_More_1_Year\n",
    "            FROM mytable\n",
    "            WHERE julianday('now') - julianday(Date) > 365;\n",
    "        \"\"\"\n",
    "        \n",
    "result = pd.read_sql_query(query, conn)\n",
    "print(result)"
   ]
  },
  {
   "cell_type": "markdown",
   "metadata": {},
   "source": [
    "### How Many Inmates have been in Custody for More Than a Month?"
   ]
  },
  {
   "cell_type": "code",
   "execution_count": 39,
   "metadata": {},
   "outputs": [
    {
     "name": "stdout",
     "output_type": "stream",
     "text": [
      "   Num_Inmates_More_1_Month\n",
      "0                      5392\n"
     ]
    }
   ],
   "source": [
    "query = \"\"\"SELECT COUNT(*) AS Num_Inmates_More_1_Month\n",
    "            FROM mytable\n",
    "            WHERE julianday('now') - julianday(Date) > 30;\n",
    "        \"\"\"\n",
    "        \n",
    "result = pd.read_sql_query(query, conn)\n",
    "print(result)"
   ]
  },
  {
   "cell_type": "markdown",
   "metadata": {},
   "source": [
    "### How Many Inmates have been in Custody for More Than 3 Months?"
   ]
  },
  {
   "cell_type": "code",
   "execution_count": 40,
   "metadata": {},
   "outputs": [
    {
     "name": "stdout",
     "output_type": "stream",
     "text": [
      "   Num_Inmates_More_3_Months\n",
      "0                       3936\n"
     ]
    }
   ],
   "source": [
    "query = \"\"\"SELECT COUNT(*) AS Num_Inmates_More_3_Months\n",
    "            FROM mytable\n",
    "            WHERE julianday('now') - julianday(Date) > 90;\n",
    "        \"\"\"\n",
    "        \n",
    "result = pd.read_sql_query(query, conn)\n",
    "print(result)"
   ]
  },
  {
   "cell_type": "markdown",
   "metadata": {},
   "source": [
    "### How Many Inmates have been in Custody for More Than 6 Months?"
   ]
  },
  {
   "cell_type": "code",
   "execution_count": 41,
   "metadata": {},
   "outputs": [
    {
     "name": "stdout",
     "output_type": "stream",
     "text": [
      "   Num_Inmates_More_6_Months\n",
      "0                       2691\n"
     ]
    }
   ],
   "source": [
    "query = \"\"\"SELECT COUNT(*) AS Num_Inmates_More_6_Months\n",
    "            FROM mytable\n",
    "            WHERE julianday('now') - julianday(Date) > 180;\n",
    "        \"\"\"\n",
    "        \n",
    "result = pd.read_sql_query(query, conn)\n",
    "print(result)"
   ]
  },
  {
   "cell_type": "markdown",
   "metadata": {},
   "source": [
    "### How Many Inmates have been in Custody for More Than 9 Months?"
   ]
  },
  {
   "cell_type": "code",
   "execution_count": 42,
   "metadata": {},
   "outputs": [
    {
     "name": "stdout",
     "output_type": "stream",
     "text": [
      "   Num_Inmates_More_9_Months\n",
      "0                       1907\n"
     ]
    }
   ],
   "source": [
    "query = \"\"\"SELECT COUNT(*) AS Num_Inmates_More_9_Months\n",
    "            FROM mytable\n",
    "            WHERE julianday('now') - julianday(Date) > 270;\n",
    "        \"\"\"\n",
    "        \n",
    "result = pd.read_sql_query(query, conn)\n",
    "print(result)"
   ]
  },
  {
   "cell_type": "markdown",
   "metadata": {},
   "source": [
    "## Group 6: Miscellaneous "
   ]
  },
  {
   "cell_type": "markdown",
   "metadata": {},
   "source": [
    "### How Many Inmates Under Mental Observation are there for Each Custody Level?"
   ]
  },
  {
   "cell_type": "code",
   "execution_count": 38,
   "metadata": {},
   "outputs": [
    {
     "name": "stdout",
     "output_type": "stream",
     "text": [
      "  BRADH CUSTODY_LEVEL  Number_of_Inmates  Percentage\n",
      "0     Y           MED               1312   21.347218\n",
      "1     N           MED               1302   21.184510\n",
      "2     Y           MAX               1108   18.027986\n",
      "3     N           MIN                920   14.969086\n",
      "4     Y           MIN                806   13.114221\n",
      "5     N           MAX                665   10.820046\n"
     ]
    }
   ],
   "source": [
    "query = \"\"\"SELECT BRADH, CUSTODY_LEVEL,\n",
    "            COUNT(*) AS Number_of_Inmates,\n",
    "            COUNT(*) * 100.0 / (SELECT COUNT(*) FROM mytable) AS Percentage\n",
    "            FROM mytable\n",
    "            WHERE CUSTODY_LEVEL != 'None'\n",
    "            GROUP BY CUSTODY_LEVEL, BRADH\n",
    "            ORDER BY COUNT(*) DESC;\n",
    "        \"\"\"\n",
    "        \n",
    "result = pd.read_sql_query(query, conn)\n",
    "print(result)"
   ]
  },
  {
   "cell_type": "markdown",
   "metadata": {},
   "source": [
    "For the most part, the number of individuals under mental health observation is fairly similar in each custody level except for maximum security. There is almost 2x more inmates under mental health observation in maximum security than those who aren't under supervision. "
   ]
  },
  {
   "cell_type": "markdown",
   "metadata": {},
   "source": [
    "### What are the Top 10 Charges for the Inmates Under Mental Health Observation?"
   ]
  },
  {
   "cell_type": "code",
   "execution_count": 52,
   "metadata": {},
   "outputs": [
    {
     "name": "stdout",
     "output_type": "stream",
     "text": [
      "  BRADH  TOP_CHARGE  Count\n",
      "0     Y      125.25    539\n",
      "1     Y  110-125.25    298\n",
      "2     Y      120.05    255\n",
      "3     Y      160.15    255\n",
      "4     Y      265.03    160\n",
      "5     Y      140.25    149\n",
      "6     Y      160.10    129\n",
      "7     Y      140.20    104\n",
      "8     Y      120.10     91\n",
      "9     Y      220.16     58\n"
     ]
    }
   ],
   "source": [
    "query = \"\"\"SELECT BRADH, TOP_CHARGE, COUNT(*) AS Count\n",
    "            FROM mytable\n",
    "            WHERE BRADH = 'Y' AND TOP_CHARGE != 'None'\n",
    "            GROUP BY BRADH, TOP_CHARGE\n",
    "            ORDER BY COUNT(*) DESC\n",
    "            LIMIT 10;\n",
    "        \"\"\"\n",
    "        \n",
    "result = pd.read_sql_query(query, conn)\n",
    "print(result)"
   ]
  },
  {
   "cell_type": "markdown",
   "metadata": {},
   "source": [
    "Here's a breakdown of the definition of each top charge according to [NYSenate.gov](https://www.nysenate.gov/legislation/laws/search/125.25):\n",
    "* 125.25 - Murder in the Second Degree\n",
    "* 110-125.25 - Attempted Murder in the Second Degree\n",
    "* 120.05 - Assault in the Second Degree\n",
    "* 160.15 - Robbery in the First Degree\n",
    "* 265.03 - Criminal Possession of a Weapon in the Second Degree\n",
    "* 140.25 - Burglary in the Second Degree\n",
    "* 160.10 - Robbery in the Second Degree\n",
    "* 140.20 - Burglary in the Third Degree\n",
    "* 120.10 - Assault in the First Degree\n",
    "* 220.16 - Criminal Possession of a Controlled Substance in the Third Degree"
   ]
  },
  {
   "cell_type": "markdown",
   "metadata": {},
   "source": [
    "### Gang Affiliations by Gender"
   ]
  },
  {
   "cell_type": "code",
   "execution_count": 10,
   "metadata": {},
   "outputs": [
    {
     "name": "stdout",
     "output_type": "stream",
     "text": [
      "  GENDER SRG_FLG  Charge_Count\n",
      "0      F       N           359\n",
      "1      F       Y            23\n",
      "2      M       N          4512\n",
      "3      M       Y          1234\n",
      "\n",
      "\n",
      "Female Gang Member Percentage 6.020942408376963\n",
      "Male Gang Member Percentage 21.47580925861469\n"
     ]
    }
   ],
   "source": [
    "query = \"\"\"SELECT GENDER, SRG_FLG, COUNT(*) AS Charge_Count\n",
    "            FROM mytable\n",
    "            WHERE GENDER IS NOT NULL\n",
    "            GROUP BY GENDER, SRG_FLG\n",
    "        \"\"\"\n",
    "\n",
    "result = pd.read_sql_query(query, conn)\n",
    "print(result)\n",
    "\n",
    "# calculations to figure out the % of each gender that are in a gang\n",
    "female_gang_percentage = 23/382 * 100\n",
    "male_gang_percentage = (1234/ (1234+4512)) * 100\n",
    "print('\\n')\n",
    "print('Female Gang Member Percentage', female_gang_percentage)\n",
    "print('Male Gang Member Percentage', male_gang_percentage)"
   ]
  },
  {
   "cell_type": "markdown",
   "metadata": {},
   "source": [
    "A much higher percentage of male inmates have a gang affiliation compared to the female inmates."
   ]
  },
  {
   "cell_type": "markdown",
   "metadata": {},
   "source": [
    "### Inmates Under Mental Health Observation by Race"
   ]
  },
  {
   "cell_type": "code",
   "execution_count": 54,
   "metadata": {},
   "outputs": [
    {
     "name": "stdout",
     "output_type": "stream",
     "text": [
      "   RACE BRADH  Charge_Count\n",
      "0     B     Y          1961\n",
      "1     B     N          1717\n",
      "2     O     N           882\n",
      "3     O     Y           881\n",
      "4     W     Y           289\n",
      "5     W     N           224\n",
      "6     A     Y            77\n",
      "7     A     N            69\n",
      "8     I     Y            12\n",
      "9     I     N             7\n",
      "10    U     N             5\n",
      "11    U     Y             4\n"
     ]
    }
   ],
   "source": [
    "query = \"\"\"SELECT RACE, BRADH, COUNT(*) AS Charge_Count \n",
    "            FROM mytable\n",
    "            WHERE RACE IS NOT NULL\n",
    "            GROUP BY RACE, BRADH\n",
    "            ORDER BY Charge_Count DESC;\n",
    "        \"\"\"\n",
    "\n",
    "result = pd.read_sql_query(query, conn) \n",
    "print(result)"
   ]
  },
  {
   "cell_type": "markdown",
   "metadata": {},
   "source": [
    "For every race, the percentage of inmates who are in mental health observations is roughly around half. There doesn't appear to be any race that is over-represented among the inmates under mental health observation."
   ]
  },
  {
   "cell_type": "markdown",
   "metadata": {},
   "source": [
    "### Mental Health Status by Gang Affiliation"
   ]
  },
  {
   "cell_type": "code",
   "execution_count": 65,
   "metadata": {},
   "outputs": [
    {
     "name": "stdout",
     "output_type": "stream",
     "text": [
      "  SRG_FLG BRADH  Charge_Count\n",
      "0       N     Y          2555\n",
      "1       N     N          2331\n",
      "2       Y     Y           678\n",
      "3       Y     N           582\n",
      "\n",
      "\n",
      "Non-Gang Affiliated Mental Health Percentage 52.29226361031518\n",
      "Gang Affiliated Mental Health Percentage 53.80952380952381\n"
     ]
    }
   ],
   "source": [
    "query = \"\"\"SELECT SRG_FLG, BRADH, COUNT(*) AS Charge_Count\n",
    "            FROM mytable\n",
    "            GROUP BY SRG_FLG, BRADH\n",
    "            ORDER BY Charge_Count DESC;\n",
    "        \"\"\"\n",
    "\n",
    "result = pd.read_sql_query(query, conn) \n",
    "print(result)\n",
    "\n",
    "gang_mental_obs = (678/(678+582)) * 100\n",
    "non_gang_mental_obs = (2555/(2555+2331)) * 100\n",
    "\n",
    "print('\\n')\n",
    "print('Non-Gang Affiliated Mental Health Percentage',non_gang_mental_obs)\n",
    "print('Gang Affiliated Mental Health Percentage',gang_mental_obs)"
   ]
  },
  {
   "cell_type": "markdown",
   "metadata": {},
   "source": [
    "Gang affiliated inmates have a slightly higher occurrence of being under mental health observation. I was expecting a bigger disparity between the two."
   ]
  }
 ],
 "metadata": {
  "kernelspec": {
   "display_name": "base",
   "language": "python",
   "name": "python3"
  },
  "language_info": {
   "codemirror_mode": {
    "name": "ipython",
    "version": 3
   },
   "file_extension": ".py",
   "mimetype": "text/x-python",
   "name": "python",
   "nbconvert_exporter": "python",
   "pygments_lexer": "ipython3",
   "version": "3.10.9"
  },
  "orig_nbformat": 4
 },
 "nbformat": 4,
 "nbformat_minor": 2
}
